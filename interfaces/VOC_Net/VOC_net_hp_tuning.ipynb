{
 "cells": [
  {
   "cell_type": "code",
   "execution_count": 1,
   "id": "2230397d",
   "metadata": {},
   "outputs": [
    {
     "name": "stderr",
     "output_type": "stream",
     "text": [
      "2022-07-07 12:59:49.632684: I tensorflow/stream_executor/platform/default/dso_loader.cc:53] Successfully opened dynamic library libcudart.so.11.0\n",
      "2022-07-07 12:59:50.496051: I tensorflow/stream_executor/platform/default/dso_loader.cc:53] Successfully opened dynamic library libcuda.so.1\n",
      "2022-07-07 12:59:50.526016: I tensorflow/core/common_runtime/gpu/gpu_device.cc:1733] Found device 0 with properties: \n",
      "pciBusID: 0000:65:00.0 name: Quadro RTX 4000 computeCapability: 7.5\n",
      "coreClock: 1.545GHz coreCount: 36 deviceMemorySize: 7.79GiB deviceMemoryBandwidth: 387.49GiB/s\n",
      "2022-07-07 12:59:50.526078: I tensorflow/stream_executor/platform/default/dso_loader.cc:53] Successfully opened dynamic library libcudart.so.11.0\n",
      "2022-07-07 12:59:50.532176: I tensorflow/stream_executor/platform/default/dso_loader.cc:53] Successfully opened dynamic library libcublas.so.11\n",
      "2022-07-07 12:59:50.532277: I tensorflow/stream_executor/platform/default/dso_loader.cc:53] Successfully opened dynamic library libcublasLt.so.11\n",
      "2022-07-07 12:59:50.533524: I tensorflow/stream_executor/platform/default/dso_loader.cc:53] Successfully opened dynamic library libcufft.so.10\n",
      "2022-07-07 12:59:50.533807: I tensorflow/stream_executor/platform/default/dso_loader.cc:53] Successfully opened dynamic library libcurand.so.10\n",
      "2022-07-07 12:59:50.534369: I tensorflow/stream_executor/platform/default/dso_loader.cc:53] Successfully opened dynamic library libcusolver.so.11\n",
      "2022-07-07 12:59:50.535278: I tensorflow/stream_executor/platform/default/dso_loader.cc:53] Successfully opened dynamic library libcusparse.so.11\n",
      "2022-07-07 12:59:50.535434: I tensorflow/stream_executor/platform/default/dso_loader.cc:53] Successfully opened dynamic library libcudnn.so.8\n",
      "2022-07-07 12:59:50.536294: I tensorflow/core/common_runtime/gpu/gpu_device.cc:1871] Adding visible gpu devices: 0\n"
     ]
    }
   ],
   "source": [
    "#!/usr/bin/env python3\n",
    "# -*- coding: utf-8 -*-\n",
    "\n",
    "\"\"\"\n",
    "@author: M Arshad Zahangir Chowdhury\n",
    "\n",
    "Tune hyperparameters of VOC_net model.\n",
    "\n",
    "\"\"\"\n",
    "\n",
    "%matplotlib inline \n",
    "\n",
    "import sys\n",
    "import os\n",
    "import matplotlib as mpl\n",
    "import matplotlib.pyplot as plt\n",
    "import numpy as np\n",
    "import pandas as pd\n",
    "from scipy import signal\n",
    "from ipywidgets import interactive\n",
    "import seaborn as sns  #heat map\n",
    "import glob # batch processing of images\n",
    "\n",
    "if '../../' not in sys.path:\n",
    "    sys.path.append('../../')\n",
    "\n",
    "import math\n",
    "from scipy import signal\n",
    "from sklearn.metrics import confusion_matrix\n",
    "from sklearn.preprocessing import LabelBinarizer\n",
    "from sklearn.metrics import roc_curve \n",
    "from sklearn.metrics import auc\n",
    "from sklearn.metrics import roc_auc_score\n",
    "\n",
    "import itertools\n",
    "\n",
    "from vocnet.misc.utils import classifier_internals\n",
    "from vocnet.misc.utils import clf_post_processor\n",
    "\n",
    "\n",
    "from vocnet.spectral_datasets.IR_datasets import IR_data\n",
    "from vocnet.spectral_datasets.IR_datasets import spectra_to_img\n",
    "from vocnet.spectral_datasets.THz_datasets import THz_data\n",
    "\n",
    "from vocnet.misc.aperture import publication_fig\n",
    "from vocnet.misc.voc_net_utils import multiclass_roc_auc_score\n",
    "from vocnet.misc.voc_net_utils import plot_raw_scores\n",
    "from vocnet.misc.voc_net_utils import simple_spectrum_fig\n",
    "from vocnet.misc.voc_net_utils import simple_plot_raw_scores\n",
    "\n",
    "from vocnet.misc.voc_net_utils import plot_sequential_group_prediction\n",
    "\n",
    "\n",
    "\n",
    "import tensorflow as tf\n",
    "from tensorflow.keras import datasets, layers, models\n",
    "\n",
    "GPU_mem_limit=1.0\n",
    "gpus = tf.config.experimental.list_physical_devices('GPU')\n",
    "if gpus:\n",
    "    try:\n",
    "        tf.config.experimental.set_virtual_device_configuration(gpus[0], [tf.config.experimental.VirtualDeviceConfiguration(memory_limit=GPU_mem_limit*1000.0)])\n",
    "\n",
    "    except RuntimeError as e:\n",
    "        print(e)        \n",
    "\n",
    "\n",
    "\n",
    "# !pip install git+https://github.com/tensorflow/docs\n",
    "\n",
    "import tensorflow_docs as tfdocs\n",
    "import tensorflow_docs.modeling\n",
    "import tensorflow_docs.plots\n",
    "import tensorflow_docs.modeling\n",
    "from tensorflow.keras import regularizers\n",
    "\n",
    "from vocnet.models.voc_net_models import get_callbacks\n",
    "from vocnet.models.voc_net_models import get_optimizer\n",
    "from vocnet.models.voc_net_models import compile_and_fit\n",
    "\n",
    "\n",
    "from vocnet.models.voc_net_models import C1f1k3_AP1_D12\n",
    "from vocnet.models.voc_net_models import C1f1k3_MP1_D12\n",
    "\n",
    "from vocnet.models.voc_net_models import C2f1k3_AP1_D12\n",
    "from vocnet.models.voc_net_models import C2f1k3_AP1_D48_D12\n",
    "from vocnet.models.voc_net_models import C2f1k3_AP2_D48_D12\n",
    "\n",
    "from vocnet.models.voc_net_models import C2f3k3_AP1_D48_D12\n",
    "from vocnet.models.voc_net_models import C2f3k3_AP1_D6_D12\n",
    "\n",
    "from vocnet.models.voc_net_models import C1f1k3_AP1_RD50_D12\n",
    "from vocnet.models.voc_net_models import C1f1k3_AP1_D48_RL1_D12\n",
    "from vocnet.models.voc_net_models import C2f3k3_AP1_D48_RD50_D12\n",
    "from vocnet.models.voc_net_models import C2f3k3_AP1_D48_RL1_D12\n",
    "from vocnet.models.voc_net_models import C2f3k3_AP1_D48_RL1_RD50_D12\n",
    "\n",
    "    \n",
    "\n",
    "from tensorflow import keras\n",
    "import keras_tuner as kt\n",
    "\n",
    "#Set random seed\n",
    "# os.environ['PYTHONHASHSEED'] = str(42)\n",
    "tf.random.set_seed(42)  \n",
    "# np.random.seed(42)"
   ]
  },
  {
   "cell_type": "code",
   "execution_count": 2,
   "id": "79aec395",
   "metadata": {},
   "outputs": [],
   "source": [
    "s = THz_data(resolution=0.016, verbosity = False)\n",
    "s.load_THz_data()\n",
    "# s.dataset_info()\n",
    "X = s.spectra\n",
    "y = s.targets\n",
    "\n",
    "X=np.expand_dims(X,-1)"
   ]
  },
  {
   "cell_type": "code",
   "execution_count": 3,
   "id": "52bb751b",
   "metadata": {},
   "outputs": [
    {
     "name": "stdout",
     "output_type": "stream",
     "text": [
      "All: [8.33333333 8.33333333 8.33333333 8.33333333 8.33333333 8.33333333\n",
      " 8.33333333 8.33333333 8.33333333 8.33333333 8.33333333 8.33333333]\n",
      "Training: [8.35148874 8.35148874 8.35148874 8.35148874 8.35148874 8.35148874\n",
      " 8.35148874 8.2788671  8.35148874 8.35148874 8.2788671  8.2788671 ]\n",
      "Testing: [8.29103215 8.29103215 8.29103215 8.29103215 8.29103215 8.29103215\n",
      " 8.29103215 8.46023689 8.29103215 8.29103215 8.46023689 8.46023689]\n"
     ]
    }
   ],
   "source": [
    "#split intro train and test set\n",
    "\n",
    "#seeds used 123,237, 786\n",
    "from sklearn.model_selection import train_test_split\n",
    "\n",
    "TRAIN_SIZE=0.70\n",
    "TEST_SIZE=1-TRAIN_SIZE\n",
    "\n",
    "x_train, x_test, y_train, y_test = train_test_split(X, y, train_size=TRAIN_SIZE,\n",
    "                                                   test_size=TEST_SIZE,\n",
    "                                                   random_state=786,\n",
    "                                                   stratify=y\n",
    "                                                   )\n",
    "\n",
    "print(\"All:\", np.bincount(y) / float(len(y))*100  )\n",
    "print(\"Training:\", np.bincount(y_train) / float(len(y_train))*100  )\n",
    "print(\"Testing:\", np.bincount(y_test) / float(len(y_test))*100  )\n"
   ]
  },
  {
   "cell_type": "code",
   "execution_count": 4,
   "id": "677db97e",
   "metadata": {},
   "outputs": [],
   "source": [
    "def thz_model(hp):\n",
    "\n",
    "    model = models.Sequential()\n",
    "    \n",
    "    hp_filters= hp.Int('filters', min_value=2, max_value=4, step=1)\n",
    "#     hp_kernel_size= hp.Int('kernel_size', min_value=3, max_value=5, step=1)\n",
    "#     hp_pool_size=hp.Int('pool_size', min_value=2, max_value=3, step=1)\n",
    "#     hp_stride_size=hp.Int('stride_size', min_value=2, max_value=3, step=1)\n",
    "    hp_units= hp.Int('units', min_value=24, max_value=48, step=6)\n",
    "#     hp_dropout = hp.Choice('dropout', values=[0.3, 0.5, 0.7])\n",
    "    hp_learning_rate = hp.Choice('learning_rate', values=[1e-2, 1e-3, 1e-4])\n",
    "\n",
    "    # C1 Convolutional Layer\n",
    "    model.add(layers.Conv1D(filters = hp_filters , kernel_size=3, activation='relu', input_shape=(229, 1), name = 'C1') )\n",
    "\n",
    "    # S2 Subsampling Layer\n",
    "    model.add(layers.AveragePooling1D(pool_size = 2, strides = 2, padding = 'valid', name = 'S2'))\n",
    "    \n",
    "    # C3 Convolutional Layer\n",
    "    model.add(layers.Conv1D(filters = hp_filters , kernel_size=3, activation='relu', name = 'C3') )\n",
    "\n",
    "    # Flatten the CNN output to feed it with fully connected layers\n",
    "    model.add(layers.Flatten())\n",
    "    \n",
    "    model.add(layers.Dense(hp_units, activation='relu')) \n",
    "    model.add(layers.Dropout(0.5))\n",
    "    model.add(layers.Dense(12))  # number of dense layer would be equal to number of classess\n",
    "    \n",
    "    # Tune the learning rate for the optimizer\n",
    "    # Choose an optimal value from 0.01, 0.001, or 0.0001\n",
    "    \n",
    "\n",
    "    model.compile(optimizer=tf.keras.optimizers.Adam(learning_rate=hp_learning_rate),\n",
    "            loss=tf.keras.losses.SparseCategoricalCrossentropy(from_logits=True),\n",
    "                 metrics=[\n",
    "              tf.keras.losses.SparseCategoricalCrossentropy(\n",
    "                  from_logits=True, name='SparseCatCrossentropy'),\n",
    "              'accuracy'])\n",
    "    \n",
    "    model.summary()\n",
    "    \n",
    "    return model"
   ]
  },
  {
   "cell_type": "code",
   "execution_count": 5,
   "id": "1fb794cc",
   "metadata": {},
   "outputs": [
    {
     "name": "stdout",
     "output_type": "stream",
     "text": [
      "INFO:tensorflow:Reloading Oracle from existing project keras_hp_tuner/thz-cnn/oracle.json\n",
      "Model: \"sequential\"\n",
      "_________________________________________________________________\n",
      "Layer (type)                 Output Shape              Param #   \n",
      "=================================================================\n",
      "C1 (Conv1D)                  (None, 227, 2)            8         \n",
      "_________________________________________________________________\n",
      "S2 (AveragePooling1D)        (None, 113, 2)            0         \n",
      "_________________________________________________________________\n",
      "C3 (Conv1D)                  (None, 111, 2)            14        \n",
      "_________________________________________________________________\n",
      "flatten (Flatten)            (None, 222)               0         \n",
      "_________________________________________________________________\n",
      "dense (Dense)                (None, 24)                5352      \n",
      "_________________________________________________________________\n",
      "dropout (Dropout)            (None, 24)                0         \n",
      "_________________________________________________________________\n",
      "dense_1 (Dense)              (None, 12)                300       \n",
      "=================================================================\n",
      "Total params: 5,674\n",
      "Trainable params: 5,674\n",
      "Non-trainable params: 0\n",
      "_________________________________________________________________\n",
      "INFO:tensorflow:Reloading Tuner from keras_hp_tuner/thz-cnn/tuner0.json\n"
     ]
    },
    {
     "name": "stderr",
     "output_type": "stream",
     "text": [
      "2022-07-07 12:59:52.679286: I tensorflow/core/platform/cpu_feature_guard.cc:142] This TensorFlow binary is optimized with oneAPI Deep Neural Network Library (oneDNN) to use the following CPU instructions in performance-critical operations:  AVX2 AVX512F FMA\n",
      "To enable them in other operations, rebuild TensorFlow with the appropriate compiler flags.\n",
      "2022-07-07 12:59:52.680229: I tensorflow/core/common_runtime/gpu/gpu_device.cc:1733] Found device 0 with properties: \n",
      "pciBusID: 0000:65:00.0 name: Quadro RTX 4000 computeCapability: 7.5\n",
      "coreClock: 1.545GHz coreCount: 36 deviceMemorySize: 7.79GiB deviceMemoryBandwidth: 387.49GiB/s\n",
      "2022-07-07 12:59:52.681113: I tensorflow/core/common_runtime/gpu/gpu_device.cc:1871] Adding visible gpu devices: 0\n",
      "2022-07-07 12:59:52.681194: I tensorflow/stream_executor/platform/default/dso_loader.cc:53] Successfully opened dynamic library libcudart.so.11.0\n",
      "2022-07-07 12:59:53.086049: I tensorflow/core/common_runtime/gpu/gpu_device.cc:1258] Device interconnect StreamExecutor with strength 1 edge matrix:\n",
      "2022-07-07 12:59:53.086073: I tensorflow/core/common_runtime/gpu/gpu_device.cc:1264]      0 \n",
      "2022-07-07 12:59:53.086078: I tensorflow/core/common_runtime/gpu/gpu_device.cc:1277] 0:   N \n",
      "2022-07-07 12:59:53.087017: I tensorflow/core/common_runtime/gpu/gpu_device.cc:1418] Created TensorFlow device (/job:localhost/replica:0/task:0/device:GPU:0 with 1000 MB memory) -> physical GPU (device: 0, name: Quadro RTX 4000, pci bus id: 0000:65:00.0, compute capability: 7.5)\n"
     ]
    }
   ],
   "source": [
    "tuner = kt.Hyperband(thz_model,\n",
    "                     objective='accuracy',\n",
    "                     max_epochs=10,\n",
    "                     factor=3,\n",
    "                     directory='keras_hp_tuner',\n",
    "                     project_name='thz-cnn')"
   ]
  },
  {
   "cell_type": "code",
   "execution_count": 6,
   "id": "fdaff39d",
   "metadata": {},
   "outputs": [],
   "source": [
    "stop_early = tf.keras.callbacks.EarlyStopping(monitor='SparseCatCrossentropy', patience=5)"
   ]
  },
  {
   "cell_type": "code",
   "execution_count": 7,
   "id": "2a93b0c3",
   "metadata": {},
   "outputs": [
    {
     "name": "stdout",
     "output_type": "stream",
     "text": [
      "INFO:tensorflow:Oracle triggered exit\n"
     ]
    }
   ],
   "source": [
    "# tuner.search(X, y, epochs=200, validation_split=0.3, callbacks=[stop_early])\n",
    "tuner.search(X, y, epochs=200, validation_data=(x_test, y_test), callbacks=[stop_early])\n",
    "\n",
    "\n",
    "# Get the optimal hyperparameters\n",
    "best_hps=tuner.get_best_hyperparameters(num_trials=2)[0]\n",
    "\n"
   ]
  },
  {
   "cell_type": "code",
   "execution_count": 8,
   "id": "c3e9de59",
   "metadata": {},
   "outputs": [
    {
     "name": "stdout",
     "output_type": "stream",
     "text": [
      "The hyperparameter search is complete.\n",
      "\n",
      "hp_filters= 3\n",
      "\n",
      "\n",
      "hp_units= 48\n",
      "\n",
      "hp_learning_rate =  0.01\n",
      "\n"
     ]
    }
   ],
   "source": [
    "print(\"\"\"The hyperparameter search is complete.\"\"\")\n",
    "# print(f\"\"\"\n",
    "# hp_filters_1= {best_hps.get('filters')}\n",
    "# hp_kernel_size= {best_hps.get('kernel_size')}\n",
    "# hp_pool_size= {best_hps.get('pool_size')}\n",
    "# hp_stride_size={best_hps.get('stride_size')}\n",
    "# hp_units= {best_hps.get('units')}\n",
    "# hp_dropout = {best_hps.get('dropout')}\n",
    "# hp_learning_rate =  {best_hps.get('learning_rate')}\n",
    "# \"\"\")\n",
    "\n",
    "print(f\"\"\"\n",
    "hp_filters= {best_hps.get('filters')}\n",
    "\n",
    "\n",
    "hp_units= {best_hps.get('units')}\n",
    "\n",
    "hp_learning_rate =  {best_hps.get('learning_rate')}\n",
    "\"\"\")\n",
    "\n"
   ]
  },
  {
   "cell_type": "code",
   "execution_count": 9,
   "id": "7f7710a1",
   "metadata": {},
   "outputs": [
    {
     "data": {
      "text/plain": [
       "[Int(name: \"filters\", min_value: 2, max_value: 4, step: 1, sampling: None, default: 2),\n",
       " Int(name: \"units\", min_value: 24, max_value: 48, step: 6, sampling: None, default: 24),\n",
       " Choice(name: \"learning_rate\", values: [0.01, 0.001, 0.0001], ordered: True, default: 0.01)]"
      ]
     },
     "execution_count": 9,
     "metadata": {},
     "output_type": "execute_result"
    }
   ],
   "source": [
    "best_hps.space"
   ]
  },
  {
   "cell_type": "markdown",
   "id": "6a051a0b",
   "metadata": {},
   "source": [
    "# notebook ends"
   ]
  }
 ],
 "metadata": {
  "kernelspec": {
   "display_name": "Python 3 (ipykernel)",
   "language": "python",
   "name": "python3"
  },
  "language_info": {
   "codemirror_mode": {
    "name": "ipython",
    "version": 3
   },
   "file_extension": ".py",
   "mimetype": "text/x-python",
   "name": "python",
   "nbconvert_exporter": "python",
   "pygments_lexer": "ipython3",
   "version": "3.8.8"
  }
 },
 "nbformat": 4,
 "nbformat_minor": 5
}
