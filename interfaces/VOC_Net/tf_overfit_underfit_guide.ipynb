{
 "cells": [
  {
   "cell_type": "code",
   "execution_count": 1,
   "id": "91e67afc",
   "metadata": {},
   "outputs": [
    {
     "name": "stderr",
     "output_type": "stream",
     "text": [
      "2022-06-21 14:12:26.888532: I tensorflow/stream_executor/platform/default/dso_loader.cc:53] Successfully opened dynamic library libcudart.so.11.0\n"
     ]
    },
    {
     "name": "stdout",
     "output_type": "stream",
     "text": [
      "2.5.0\n"
     ]
    }
   ],
   "source": [
    "import tensorflow as tf\n",
    "\n",
    "from tensorflow.keras import layers\n",
    "from tensorflow.keras import regularizers\n",
    "\n",
    "print(tf.__version__)"
   ]
  },
  {
   "cell_type": "code",
   "execution_count": 2,
   "id": "79f169bb",
   "metadata": {},
   "outputs": [],
   "source": [
    "# !pip install git+https://github.com/tensorflow/docs\n",
    "\n",
    "import tensorflow_docs as tfdocs\n",
    "import tensorflow_docs.modeling\n",
    "import tensorflow_docs.plots\n",
    "import tensorflow_docs as tfdocs\n",
    "import tensorflow_docs.modeling\n",
    "import tensorflow_docs.plots"
   ]
  },
  {
   "cell_type": "code",
   "execution_count": 3,
   "id": "508a7cb0",
   "metadata": {},
   "outputs": [
    {
     "name": "stdout",
     "output_type": "stream",
     "text": [
      "2.5.0\n"
     ]
    }
   ],
   "source": [
    "import tensorflow as tf\n",
    "\n",
    "from tensorflow.keras import layers\n",
    "from tensorflow.keras import regularizers\n",
    "\n",
    "print(tf.__version__)"
   ]
  },
  {
   "cell_type": "code",
   "execution_count": 4,
   "id": "0e32c889",
   "metadata": {},
   "outputs": [],
   "source": [
    "from  IPython import display\n",
    "from matplotlib import pyplot as plt\n",
    "\n",
    "import numpy as np\n",
    "\n",
    "import pathlib\n",
    "import shutil\n",
    "import tempfile"
   ]
  },
  {
   "cell_type": "code",
   "execution_count": 5,
   "id": "aeee61a1",
   "metadata": {},
   "outputs": [],
   "source": [
    "\n",
    "logdir = pathlib.Path(tempfile.mkdtemp())/\"tensorboard_logs\"\n",
    "shutil.rmtree(logdir, ignore_errors=True)"
   ]
  },
  {
   "cell_type": "code",
   "execution_count": 6,
   "id": "211fd5bd",
   "metadata": {},
   "outputs": [],
   "source": [
    "gz = tf.keras.utils.get_file('HIGGS.csv.gz', 'http://mlphysics.ics.uci.edu/data/higgs/HIGGS.csv.gz')"
   ]
  },
  {
   "cell_type": "code",
   "execution_count": 50,
   "id": "d1ecb46a",
   "metadata": {},
   "outputs": [
    {
     "data": {
      "text/plain": [
       "'/home/reshad812/.keras/datasets/HIGGS.csv.gz'"
      ]
     },
     "execution_count": 50,
     "metadata": {},
     "output_type": "execute_result"
    }
   ],
   "source": [
    "gz"
   ]
  },
  {
   "cell_type": "code",
   "execution_count": 7,
   "id": "5a639130",
   "metadata": {},
   "outputs": [],
   "source": [
    "FEATURES = 28"
   ]
  },
  {
   "cell_type": "code",
   "execution_count": 8,
   "id": "95370c88",
   "metadata": {},
   "outputs": [
    {
     "name": "stderr",
     "output_type": "stream",
     "text": [
      "2022-06-21 14:12:28.550005: I tensorflow/stream_executor/platform/default/dso_loader.cc:53] Successfully opened dynamic library libcuda.so.1\n",
      "2022-06-21 14:12:28.580963: I tensorflow/core/common_runtime/gpu/gpu_device.cc:1733] Found device 0 with properties: \n",
      "pciBusID: 0000:65:00.0 name: Quadro RTX 4000 computeCapability: 7.5\n",
      "coreClock: 1.545GHz coreCount: 36 deviceMemorySize: 7.79GiB deviceMemoryBandwidth: 387.49GiB/s\n",
      "2022-06-21 14:12:28.581046: I tensorflow/stream_executor/platform/default/dso_loader.cc:53] Successfully opened dynamic library libcudart.so.11.0\n",
      "2022-06-21 14:12:28.587830: I tensorflow/stream_executor/platform/default/dso_loader.cc:53] Successfully opened dynamic library libcublas.so.11\n",
      "2022-06-21 14:12:28.587966: I tensorflow/stream_executor/platform/default/dso_loader.cc:53] Successfully opened dynamic library libcublasLt.so.11\n",
      "2022-06-21 14:12:28.589273: I tensorflow/stream_executor/platform/default/dso_loader.cc:53] Successfully opened dynamic library libcufft.so.10\n",
      "2022-06-21 14:12:28.589635: I tensorflow/stream_executor/platform/default/dso_loader.cc:53] Successfully opened dynamic library libcurand.so.10\n",
      "2022-06-21 14:12:28.590331: I tensorflow/stream_executor/platform/default/dso_loader.cc:53] Successfully opened dynamic library libcusolver.so.11\n",
      "2022-06-21 14:12:28.591577: I tensorflow/stream_executor/platform/default/dso_loader.cc:53] Successfully opened dynamic library libcusparse.so.11\n",
      "2022-06-21 14:12:28.591772: I tensorflow/stream_executor/platform/default/dso_loader.cc:53] Successfully opened dynamic library libcudnn.so.8\n",
      "2022-06-21 14:12:28.592666: I tensorflow/core/common_runtime/gpu/gpu_device.cc:1871] Adding visible gpu devices: 0\n",
      "2022-06-21 14:12:28.593522: I tensorflow/core/platform/cpu_feature_guard.cc:142] This TensorFlow binary is optimized with oneAPI Deep Neural Network Library (oneDNN) to use the following CPU instructions in performance-critical operations:  AVX2 AVX512F FMA\n",
      "To enable them in other operations, rebuild TensorFlow with the appropriate compiler flags.\n",
      "2022-06-21 14:12:28.594905: I tensorflow/core/common_runtime/gpu/gpu_device.cc:1733] Found device 0 with properties: \n",
      "pciBusID: 0000:65:00.0 name: Quadro RTX 4000 computeCapability: 7.5\n",
      "coreClock: 1.545GHz coreCount: 36 deviceMemorySize: 7.79GiB deviceMemoryBandwidth: 387.49GiB/s\n",
      "2022-06-21 14:12:28.595987: I tensorflow/core/common_runtime/gpu/gpu_device.cc:1871] Adding visible gpu devices: 0\n",
      "2022-06-21 14:12:28.596055: I tensorflow/stream_executor/platform/default/dso_loader.cc:53] Successfully opened dynamic library libcudart.so.11.0\n",
      "2022-06-21 14:12:29.020862: I tensorflow/core/common_runtime/gpu/gpu_device.cc:1258] Device interconnect StreamExecutor with strength 1 edge matrix:\n",
      "2022-06-21 14:12:29.020888: I tensorflow/core/common_runtime/gpu/gpu_device.cc:1264]      0 \n",
      "2022-06-21 14:12:29.020893: I tensorflow/core/common_runtime/gpu/gpu_device.cc:1277] 0:   N \n",
      "2022-06-21 14:12:29.021672: I tensorflow/core/common_runtime/gpu/gpu_device.cc:1418] Created TensorFlow device (/job:localhost/replica:0/task:0/device:GPU:0 with 1885 MB memory) -> physical GPU (device: 0, name: Quadro RTX 4000, pci bus id: 0000:65:00.0, compute capability: 7.5)\n"
     ]
    }
   ],
   "source": [
    "ds = tf.data.experimental.CsvDataset(gz,[float(),]*(FEATURES+1), compression_type=\"GZIP\")"
   ]
  },
  {
   "cell_type": "code",
   "execution_count": 51,
   "id": "51e0e227",
   "metadata": {},
   "outputs": [
    {
     "data": {
      "text/plain": [
       "<CsvDatasetV2 shapes: ((), (), (), (), (), (), (), (), (), (), (), (), (), (), (), (), (), (), (), (), (), (), (), (), (), (), (), (), ()), types: (tf.float32, tf.float32, tf.float32, tf.float32, tf.float32, tf.float32, tf.float32, tf.float32, tf.float32, tf.float32, tf.float32, tf.float32, tf.float32, tf.float32, tf.float32, tf.float32, tf.float32, tf.float32, tf.float32, tf.float32, tf.float32, tf.float32, tf.float32, tf.float32, tf.float32, tf.float32, tf.float32, tf.float32, tf.float32)>"
      ]
     },
     "execution_count": 51,
     "metadata": {},
     "output_type": "execute_result"
    }
   ],
   "source": [
    "ds"
   ]
  },
  {
   "cell_type": "code",
   "execution_count": 9,
   "id": "c92f4afb",
   "metadata": {},
   "outputs": [],
   "source": [
    "def pack_row(*row):\n",
    "    label = row[0]\n",
    "    features = tf.stack(row[1:],1)\n",
    "    return features, label"
   ]
  },
  {
   "cell_type": "code",
   "execution_count": 10,
   "id": "16dc93b3",
   "metadata": {},
   "outputs": [
    {
     "name": "stderr",
     "output_type": "stream",
     "text": [
      "2022-06-21 14:12:29.253814: I tensorflow/compiler/mlir/mlir_graph_optimization_pass.cc:176] None of the MLIR Optimization Passes are enabled (registered 2)\n",
      "2022-06-21 14:12:29.272915: I tensorflow/core/platform/profile_utils/cpu_utils.cc:114] CPU Frequency: 3600000000 Hz\n"
     ]
    },
    {
     "name": "stdout",
     "output_type": "stream",
     "text": [
      "tf.Tensor(\n",
      "[ 0.8692932  -0.6350818   0.22569026  0.32747006 -0.6899932   0.75420225\n",
      " -0.24857314 -1.0920639   0.          1.3749921  -0.6536742   0.9303491\n",
      "  1.1074361   1.1389043  -1.5781983  -1.0469854   0.          0.65792954\n",
      " -0.01045457 -0.04576717  3.1019614   1.35376     0.9795631   0.97807616\n",
      "  0.92000484  0.72165745  0.98875093  0.87667835], shape=(28,), dtype=float32)\n"
     ]
    },
    {
     "data": {
      "image/png": "[encoded data removed]",
      "text/plain": [
       "<Figure size 432x288 with 1 Axes>"
      ]
     },
     "metadata": {
      "needs_background": "light"
     },
     "output_type": "display_data"
    }
   ],
   "source": [
    "packed_ds = ds.batch(10000).map(pack_row).unbatch()\n",
    "\n",
    "for features,label in packed_ds.batch(1000).take(1):\n",
    "    print(features[0])\n",
    "    plt.hist(features.numpy().flatten(), bins = 101)"
   ]
  },
  {
   "cell_type": "code",
   "execution_count": 52,
   "id": "e5112d09",
   "metadata": {},
   "outputs": [
    {
     "data": {
      "text/plain": [
       "<_UnbatchDataset shapes: ((28,), ()), types: (tf.float32, tf.float32)>"
      ]
     },
     "execution_count": 52,
     "metadata": {},
     "output_type": "execute_result"
    }
   ],
   "source": [
    "packed_ds"
   ]
  },
  {
   "cell_type": "code",
   "execution_count": 11,
   "id": "aafdf1cd",
   "metadata": {},
   "outputs": [],
   "source": []
  },
  {
   "cell_type": "code",
   "execution_count": 12,
   "id": "15a34480",
   "metadata": {},
   "outputs": [],
   "source": [
    "validate_ds = packed_ds.take(N_VALIDATION).cache()\n",
    "train_ds = packed_ds.skip(N_VALIDATION).take(N_TRAIN).cache()"
   ]
  },
  {
   "cell_type": "code",
   "execution_count": 13,
   "id": "0505d6ff",
   "metadata": {},
   "outputs": [
    {
     "data": {
      "text/plain": [
       "<CacheDataset shapes: ((28,), ()), types: (tf.float32, tf.float32)>"
      ]
     },
     "execution_count": 13,
     "metadata": {},
     "output_type": "execute_result"
    }
   ],
   "source": [
    "train_ds"
   ]
  },
  {
   "cell_type": "code",
   "execution_count": 14,
   "id": "7f3b3c09",
   "metadata": {},
   "outputs": [],
   "source": [
    "validate_ds = validate_ds.batch(BATCH_SIZE)\n",
    "train_ds = train_ds.shuffle(BUFFER_SIZE).repeat().batch(BATCH_SIZE)"
   ]
  },
  {
   "cell_type": "code",
   "execution_count": 53,
   "id": "05057afc",
   "metadata": {},
   "outputs": [
    {
     "data": {
      "text/plain": [
       "<BatchDataset shapes: ((None, 28), (None,)), types: (tf.float32, tf.float32)>"
      ]
     },
     "execution_count": 53,
     "metadata": {},
     "output_type": "execute_result"
    }
   ],
   "source": [
    "validate_ds"
   ]
  },
  {
   "cell_type": "markdown",
   "id": "e60b299b",
   "metadata": {},
   "source": [
    "# demonstrate overfit"
   ]
  },
  {
   "cell_type": "code",
   "execution_count": 15,
   "id": "7616365a",
   "metadata": {},
   "outputs": [],
   "source": [
    "lr_schedule = tf.keras.optimizers.schedules.InverseTimeDecay(\n",
    "  0.001,\n",
    "  decay_steps=STEPS_PER_EPOCH*1000,\n",
    "  decay_rate=1,\n",
    "  staircase=False)\n",
    "\n",
    "def get_optimizer():\n",
    "    return tf.keras.optimizers.Adam(lr_schedule)"
   ]
  },
  {
   "cell_type": "code",
   "execution_count": 16,
   "id": "b4471c4c",
   "metadata": {},
   "outputs": [
    {
     "data": {
      "image/png": "[encoded data removed]",
      "text/plain": [
       "<Figure size 576x432 with 1 Axes>"
      ]
     },
     "metadata": {
      "needs_background": "light"
     },
     "output_type": "display_data"
    }
   ],
   "source": [
    "step = np.linspace(0,100000)\n",
    "lr = lr_schedule(step)\n",
    "plt.figure(figsize = (8,6))\n",
    "plt.plot(step/STEPS_PER_EPOCH, lr)\n",
    "plt.ylim([0,max(plt.ylim())])\n",
    "plt.xlabel('Epoch')\n",
    "_ = plt.ylabel('Learning Rate')"
   ]
  },
  {
   "cell_type": "code",
   "execution_count": 17,
   "id": "f5366dc4",
   "metadata": {},
   "outputs": [],
   "source": [
    "def get_callbacks(name):\n",
    "    return [\n",
    "    tfdocs.modeling.EpochDots(),\n",
    "    tf.keras.callbacks.EarlyStopping(monitor='val_binary_crossentropy', patience=200),\n",
    "    tf.keras.callbacks.TensorBoard(logdir/name),\n",
    "  ]"
   ]
  },
  {
   "cell_type": "code",
   "execution_count": 18,
   "id": "0a68b94f",
   "metadata": {},
   "outputs": [],
   "source": [
    "def compile_and_fit(model, name, optimizer=None, max_epochs=10000):\n",
    "    if optimizer is None:\n",
    "        optimizer = get_optimizer()\n",
    "    model.compile(optimizer=optimizer,\n",
    "            loss=tf.keras.losses.BinaryCrossentropy(from_logits=True),\n",
    "            metrics=[\n",
    "              tf.keras.losses.BinaryCrossentropy(\n",
    "                  from_logits=True, name='binary_crossentropy'),\n",
    "              'accuracy'])\n",
    "\n",
    "    model.summary()\n",
    "\n",
    "    history = model.fit(\n",
    "    train_ds,\n",
    "    steps_per_epoch = STEPS_PER_EPOCH,\n",
    "    epochs=max_epochs,\n",
    "    validation_data=validate_ds,\n",
    "    callbacks=get_callbacks(name),\n",
    "    verbose=0)\n",
    "    \n",
    "    return history"
   ]
  },
  {
   "cell_type": "markdown",
   "id": "c7ead397",
   "metadata": {},
   "source": [
    "# the tiny model"
   ]
  },
  {
   "cell_type": "code",
   "execution_count": 19,
   "id": "47ad07d8",
   "metadata": {},
   "outputs": [],
   "source": [
    "tiny_model = tf.keras.Sequential([\n",
    "    layers.Dense(16, activation='elu', input_shape=(FEATURES,)),\n",
    "    layers.Dense(1)\n",
    "])"
   ]
  },
  {
   "cell_type": "code",
   "execution_count": 20,
   "id": "caa8a05a",
   "metadata": {},
   "outputs": [],
   "source": [
    "size_histories = {}"
   ]
  },
  {
   "cell_type": "code",
   "execution_count": 21,
   "id": "eaf136e4",
   "metadata": {},
   "outputs": [
    {
     "name": "stdout",
     "output_type": "stream",
     "text": [
      "Model: \"sequential\"\n",
      "_________________________________________________________________\n",
      "Layer (type)                 Output Shape              Param #   \n",
      "=================================================================\n",
      "dense (Dense)                (None, 16)                464       \n",
      "_________________________________________________________________\n",
      "dense_1 (Dense)              (None, 1)                 17        \n",
      "=================================================================\n",
      "Total params: 481\n",
      "Trainable params: 481\n",
      "Non-trainable params: 0\n",
      "_________________________________________________________________\n"
     ]
    },
    {
     "name": "stderr",
     "output_type": "stream",
     "text": [
      "2022-06-21 14:12:32.678731: I tensorflow/core/profiler/lib/profiler_session.cc:126] Profiler session initializing.\n",
      "2022-06-21 14:12:32.678789: I tensorflow/core/profiler/lib/profiler_session.cc:141] Profiler session started.\n",
      "2022-06-21 14:12:32.718368: I tensorflow/core/profiler/internal/gpu/cupti_tracer.cc:1611] Profiler found 1 GPUs\n",
      "2022-06-21 14:12:32.729922: W tensorflow/stream_executor/platform/default/dso_loader.cc:64] Could not load dynamic library 'libcupti.so.11.2'; dlerror: libcupti.so.11.2: cannot open shared object file: No such file or directory; LD_LIBRARY_PATH: /usr/lib/cuda/include:/usr/lib/cuda/lib64:\n",
      "2022-06-21 14:12:32.804566: I tensorflow/stream_executor/platform/default/dso_loader.cc:53] Successfully opened dynamic library libcupti.so\n",
      "2022-06-21 14:12:32.916274: E tensorflow/core/profiler/internal/gpu/cupti_tracer.cc:1661] function cupti_interface_->Subscribe( &subscriber_, (CUpti_CallbackFunc)ApiCallback, this)failed with error CUPTI_ERROR_INSUFFICIENT_PRIVILEGES\n",
      "2022-06-21 14:12:32.916593: I tensorflow/core/profiler/lib/profiler_session.cc:159] Profiler session tear down.\n",
      "2022-06-21 14:12:35.818353: I tensorflow/stream_executor/platform/default/dso_loader.cc:53] Successfully opened dynamic library libcublas.so.11\n",
      "2022-06-21 14:12:36.309344: I tensorflow/stream_executor/platform/default/dso_loader.cc:53] Successfully opened dynamic library libcublasLt.so.11\n",
      "2022-06-21 14:12:36.437947: I tensorflow/core/profiler/lib/profiler_session.cc:126] Profiler session initializing.\n",
      "2022-06-21 14:12:36.437977: I tensorflow/core/profiler/lib/profiler_session.cc:141] Profiler session started.\n",
      "2022-06-21 14:12:36.438492: E tensorflow/core/profiler/internal/gpu/cupti_tracer.cc:1661] function cupti_interface_->Subscribe( &subscriber_, (CUpti_CallbackFunc)ApiCallback, this)failed with error CUPTI_ERROR_INSUFFICIENT_PRIVILEGES\n",
      "2022-06-21 14:12:36.446482: I tensorflow/core/profiler/lib/profiler_session.cc:66] Profiler session collecting data.\n",
      "2022-06-21 14:12:36.452640: I tensorflow/core/profiler/internal/gpu/cupti_collector.cc:673]  GpuTracer has collected 0 callback api events and 0 activity events. \n",
      "2022-06-21 14:12:36.477814: I tensorflow/core/profiler/lib/profiler_session.cc:159] Profiler session tear down.\n"
     ]
    },
    {
     "name": "stdout",
     "output_type": "stream",
     "text": [
      "WARNING:tensorflow:Callback method `on_train_batch_end` is slow compared to the batch time (batch time: 0.0048s vs `on_train_batch_end` time: 0.0302s). Check your callbacks.\n"
     ]
    },
    {
     "name": "stderr",
     "output_type": "stream",
     "text": [
      "2022-06-21 14:12:36.535172: I tensorflow/core/profiler/rpc/client/save_profile.cc:137] Creating directory: /tmp/tmp68fgim69/tensorboard_logs/sizes/Tiny/train/plugins/profile/2022_06_21_14_12_36\n",
      "2022-06-21 14:12:36.542180: I tensorflow/core/profiler/rpc/client/save_profile.cc:143] Dumped gzipped tool data for trace.json.gz to /tmp/tmp68fgim69/tensorboard_logs/sizes/Tiny/train/plugins/profile/2022_06_21_14_12_36/Galileo.trace.json.gz\n",
      "2022-06-21 14:12:36.599661: I tensorflow/core/profiler/rpc/client/save_profile.cc:137] Creating directory: /tmp/tmp68fgim69/tensorboard_logs/sizes/Tiny/train/plugins/profile/2022_06_21_14_12_36\n",
      "2022-06-21 14:12:36.601349: I tensorflow/core/profiler/rpc/client/save_profile.cc:143] Dumped gzipped tool data for memory_profile.json.gz to /tmp/tmp68fgim69/tensorboard_logs/sizes/Tiny/train/plugins/profile/2022_06_21_14_12_36/Galileo.memory_profile.json.gz\n",
      "2022-06-21 14:12:36.601825: I tensorflow/core/profiler/rpc/client/capture_profile.cc:251] Creating directory: /tmp/tmp68fgim69/tensorboard_logs/sizes/Tiny/train/plugins/profile/2022_06_21_14_12_36Dumped tool data for xplane.pb to /tmp/tmp68fgim69/tensorboard_logs/sizes/Tiny/train/plugins/profile/2022_06_21_14_12_36/Galileo.xplane.pb\n",
      "Dumped tool data for overview_page.pb to /tmp/tmp68fgim69/tensorboard_logs/sizes/Tiny/train/plugins/profile/2022_06_21_14_12_36/Galileo.overview_page.pb\n",
      "Dumped tool data for input_pipeline.pb to /tmp/tmp68fgim69/tensorboard_logs/sizes/Tiny/train/plugins/profile/2022_06_21_14_12_36/Galileo.input_pipeline.pb\n",
      "Dumped tool data for tensorflow_stats.pb to /tmp/tmp68fgim69/tensorboard_logs/sizes/Tiny/train/plugins/profile/2022_06_21_14_12_36/Galileo.tensorflow_stats.pb\n",
      "Dumped tool data for kernel_stats.pb to /tmp/tmp68fgim69/tensorboard_logs/sizes/Tiny/train/plugins/profile/2022_06_21_14_12_36/Galileo.kernel_stats.pb\n",
      "\n"
     ]
    },
    {
     "name": "stdout",
     "output_type": "stream",
     "text": [
      "\n",
      "Epoch: 0, accuracy:0.4794,  binary_crossentropy:0.8013,  loss:0.8013,  val_accuracy:0.4720,  val_binary_crossentropy:0.7772,  val_loss:0.7772,  \n",
      "....................................................................................................\n",
      "Epoch: 100, accuracy:0.6084,  binary_crossentropy:0.6240,  loss:0.6240,  val_accuracy:0.5990,  val_binary_crossentropy:0.6166,  val_loss:0.6166,  \n",
      "....................................................................................................\n",
      "Epoch: 200, accuracy:0.6275,  binary_crossentropy:0.6101,  loss:0.6101,  val_accuracy:0.6100,  val_binary_crossentropy:0.6012,  val_loss:0.6012,  \n",
      "....................................................................................................\n",
      "Epoch: 300, accuracy:0.6450,  binary_crossentropy:0.5999,  loss:0.5999,  val_accuracy:0.6310,  val_binary_crossentropy:0.5908,  val_loss:0.5908,  \n",
      "....................................................................................................\n",
      "Epoch: 400, accuracy:0.6530,  binary_crossentropy:0.5920,  loss:0.5920,  val_accuracy:0.6510,  val_binary_crossentropy:0.5837,  val_loss:0.5837,  \n",
      "....................................................................................................\n",
      "Epoch: 500, accuracy:0.6651,  binary_crossentropy:0.5875,  loss:0.5875,  val_accuracy:0.6860,  val_binary_crossentropy:0.5789,  val_loss:0.5789,  \n",
      "....................................................................................................\n",
      "Epoch: 600, accuracy:0.6678,  binary_crossentropy:0.5835,  loss:0.5835,  val_accuracy:0.6530,  val_binary_crossentropy:0.5806,  val_loss:0.5806,  \n",
      "....................................................................................................\n",
      "Epoch: 700, accuracy:0.6793,  binary_crossentropy:0.5804,  loss:0.5804,  val_accuracy:0.6690,  val_binary_crossentropy:0.5792,  val_loss:0.5792,  \n",
      "....................................................................................................\n",
      "Epoch: 800, accuracy:0.6814,  binary_crossentropy:0.5785,  loss:0.5785,  val_accuracy:0.6620,  val_binary_crossentropy:0.5802,  val_loss:0.5802,  \n",
      "..............................."
     ]
    }
   ],
   "source": [
    "size_histories['Tiny'] = compile_and_fit(tiny_model, 'sizes/Tiny')"
   ]
  },
  {
   "cell_type": "code",
   "execution_count": 22,
   "id": "182f9a96",
   "metadata": {},
   "outputs": [
    {
     "data": {
      "text/plain": [
       "(0.5, 0.7)"
      ]
     },
     "execution_count": 22,
     "metadata": {},
     "output_type": "execute_result"
    },
    {
     "data": {
      "image/png": "[encoded data removed]",
      "text/plain": [
       "<Figure size 432x288 with 1 Axes>"
      ]
     },
     "metadata": {
      "needs_background": "light"
     },
     "output_type": "display_data"
    }
   ],
   "source": [
    "plotter = tfdocs.plots.HistoryPlotter(metric = 'binary_crossentropy', smoothing_std=10)\n",
    "plotter.plot(size_histories)\n",
    "plt.ylim([0.5, 0.7])"
   ]
  },
  {
   "cell_type": "markdown",
   "id": "0a8f8ae4",
   "metadata": {},
   "source": [
    "# add small model later"
   ]
  },
  {
   "cell_type": "code",
   "execution_count": 23,
   "id": "73453711",
   "metadata": {},
   "outputs": [],
   "source": [
    "small_model = tf.keras.Sequential([\n",
    "    # `input_shape` is only required here so that `.summary` works.\n",
    "    layers.Dense(16, activation='elu', input_shape=(FEATURES,)),\n",
    "    layers.Dense(16, activation='elu'),\n",
    "    layers.Dense(1)\n",
    "])"
   ]
  },
  {
   "cell_type": "code",
   "execution_count": 24,
   "id": "53b82125",
   "metadata": {},
   "outputs": [
    {
     "name": "stdout",
     "output_type": "stream",
     "text": [
      "Model: \"sequential_1\"\n",
      "_________________________________________________________________\n",
      "Layer (type)                 Output Shape              Param #   \n",
      "=================================================================\n",
      "dense_2 (Dense)              (None, 16)                464       \n",
      "_________________________________________________________________\n",
      "dense_3 (Dense)              (None, 16)                272       \n",
      "_________________________________________________________________\n",
      "dense_4 (Dense)              (None, 1)                 17        \n",
      "=================================================================\n",
      "Total params: 753\n",
      "Trainable params: 753\n",
      "Non-trainable params: 0\n",
      "_________________________________________________________________\n"
     ]
    },
    {
     "name": "stderr",
     "output_type": "stream",
     "text": [
      "2022-06-21 14:28:32.213381: I tensorflow/core/profiler/lib/profiler_session.cc:126] Profiler session initializing.\n",
      "2022-06-21 14:28:32.213428: I tensorflow/core/profiler/lib/profiler_session.cc:141] Profiler session started.\n",
      "2022-06-21 14:28:32.213712: E tensorflow/core/profiler/internal/gpu/cupti_tracer.cc:1661] function cupti_interface_->Subscribe( &subscriber_, (CUpti_CallbackFunc)ApiCallback, this)failed with error CUPTI_ERROR_NOT_INITIALIZED\n",
      "2022-06-21 14:28:32.213749: I tensorflow/core/profiler/lib/profiler_session.cc:159] Profiler session tear down.\n"
     ]
    },
    {
     "name": "stdout",
     "output_type": "stream",
     "text": [
      "WARNING:tensorflow:Callback method `on_train_batch_end` is slow compared to the batch time (batch time: 0.0043s vs `on_train_batch_end` time: 0.0101s). Check your callbacks.\n"
     ]
    },
    {
     "name": "stderr",
     "output_type": "stream",
     "text": [
      "2022-06-21 14:28:32.572298: I tensorflow/core/profiler/lib/profiler_session.cc:126] Profiler session initializing.\n",
      "2022-06-21 14:28:32.572324: I tensorflow/core/profiler/lib/profiler_session.cc:141] Profiler session started.\n",
      "2022-06-21 14:28:32.572465: E tensorflow/core/profiler/internal/gpu/cupti_tracer.cc:1661] function cupti_interface_->Subscribe( &subscriber_, (CUpti_CallbackFunc)ApiCallback, this)failed with error CUPTI_ERROR_NOT_INITIALIZED\n",
      "2022-06-21 14:28:32.602695: I tensorflow/core/profiler/lib/profiler_session.cc:66] Profiler session collecting data.\n",
      "2022-06-21 14:28:32.605625: I tensorflow/core/profiler/internal/gpu/cupti_collector.cc:673]  GpuTracer has collected 0 callback api events and 0 activity events. \n",
      "2022-06-21 14:28:32.606943: I tensorflow/core/profiler/lib/profiler_session.cc:159] Profiler session tear down.\n",
      "2022-06-21 14:28:32.617488: I tensorflow/core/profiler/rpc/client/save_profile.cc:137] Creating directory: /tmp/tmp68fgim69/tensorboard_logs/sizes/Small/train/plugins/profile/2022_06_21_14_28_32\n",
      "2022-06-21 14:28:32.622500: I tensorflow/core/profiler/rpc/client/save_profile.cc:143] Dumped gzipped tool data for trace.json.gz to /tmp/tmp68fgim69/tensorboard_logs/sizes/Small/train/plugins/profile/2022_06_21_14_28_32/Galileo.trace.json.gz\n",
      "2022-06-21 14:28:32.627674: I tensorflow/core/profiler/rpc/client/save_profile.cc:137] Creating directory: /tmp/tmp68fgim69/tensorboard_logs/sizes/Small/train/plugins/profile/2022_06_21_14_28_32\n",
      "2022-06-21 14:28:32.628313: I tensorflow/core/profiler/rpc/client/save_profile.cc:143] Dumped gzipped tool data for memory_profile.json.gz to /tmp/tmp68fgim69/tensorboard_logs/sizes/Small/train/plugins/profile/2022_06_21_14_28_32/Galileo.memory_profile.json.gz\n",
      "2022-06-21 14:28:32.628484: I tensorflow/core/profiler/rpc/client/capture_profile.cc:251] Creating directory: /tmp/tmp68fgim69/tensorboard_logs/sizes/Small/train/plugins/profile/2022_06_21_14_28_32Dumped tool data for xplane.pb to /tmp/tmp68fgim69/tensorboard_logs/sizes/Small/train/plugins/profile/2022_06_21_14_28_32/Galileo.xplane.pb\n",
      "Dumped tool data for overview_page.pb to /tmp/tmp68fgim69/tensorboard_logs/sizes/Small/train/plugins/profile/2022_06_21_14_28_32/Galileo.overview_page.pb\n",
      "Dumped tool data for input_pipeline.pb to /tmp/tmp68fgim69/tensorboard_logs/sizes/Small/train/plugins/profile/2022_06_21_14_28_32/Galileo.input_pipeline.pb\n",
      "Dumped tool data for tensorflow_stats.pb to /tmp/tmp68fgim69/tensorboard_logs/sizes/Small/train/plugins/profile/2022_06_21_14_28_32/Galileo.tensorflow_stats.pb\n",
      "Dumped tool data for kernel_stats.pb to /tmp/tmp68fgim69/tensorboard_logs/sizes/Small/train/plugins/profile/2022_06_21_14_28_32/Galileo.kernel_stats.pb\n",
      "\n"
     ]
    },
    {
     "name": "stdout",
     "output_type": "stream",
     "text": [
      "\n",
      "Epoch: 0, accuracy:0.4715,  binary_crossentropy:0.8548,  loss:0.8548,  val_accuracy:0.4740,  val_binary_crossentropy:0.7557,  val_loss:0.7557,  \n",
      "....................................................................................................\n",
      "Epoch: 100, accuracy:0.6162,  binary_crossentropy:0.6176,  loss:0.6176,  val_accuracy:0.5990,  val_binary_crossentropy:0.6139,  val_loss:0.6139,  \n",
      "....................................................................................................\n",
      "Epoch: 200, accuracy:0.6562,  binary_crossentropy:0.5946,  loss:0.5946,  val_accuracy:0.6380,  val_binary_crossentropy:0.5876,  val_loss:0.5876,  \n",
      "....................................................................................................\n",
      "Epoch: 300, accuracy:0.6646,  binary_crossentropy:0.5802,  loss:0.5802,  val_accuracy:0.6730,  val_binary_crossentropy:0.5805,  val_loss:0.5805,  \n",
      "....................................................................................................\n",
      "Epoch: 400, accuracy:0.6776,  binary_crossentropy:0.5725,  loss:0.5725,  val_accuracy:0.6530,  val_binary_crossentropy:0.5899,  val_loss:0.5899,  \n",
      "....................................................................................................\n",
      "Epoch: 500, accuracy:0.6786,  binary_crossentropy:0.5673,  loss:0.5673,  val_accuracy:0.6600,  val_binary_crossentropy:0.5922,  val_loss:0.5922,  \n",
      "."
     ]
    }
   ],
   "source": [
    "size_histories['Small'] = compile_and_fit(small_model, 'sizes/Small')"
   ]
  },
  {
   "cell_type": "code",
   "execution_count": 26,
   "id": "ebc4dbbe",
   "metadata": {},
   "outputs": [],
   "source": [
    "# medium layer"
   ]
  },
  {
   "cell_type": "code",
   "execution_count": 25,
   "id": "108cdc4f",
   "metadata": {},
   "outputs": [],
   "source": [
    "medium_model = tf.keras.Sequential([\n",
    "    layers.Dense(64, activation='elu', input_shape=(FEATURES,)),\n",
    "    layers.Dense(64, activation='elu'),\n",
    "    layers.Dense(64, activation='elu'),\n",
    "    layers.Dense(1)\n",
    "])"
   ]
  },
  {
   "cell_type": "code",
   "execution_count": 27,
   "id": "1fa938c0",
   "metadata": {},
   "outputs": [
    {
     "name": "stdout",
     "output_type": "stream",
     "text": [
      "Model: \"sequential_2\"\n",
      "_________________________________________________________________\n",
      "Layer (type)                 Output Shape              Param #   \n",
      "=================================================================\n",
      "dense_5 (Dense)              (None, 64)                1856      \n",
      "_________________________________________________________________\n",
      "dense_6 (Dense)              (None, 64)                4160      \n",
      "_________________________________________________________________\n",
      "dense_7 (Dense)              (None, 64)                4160      \n",
      "_________________________________________________________________\n",
      "dense_8 (Dense)              (None, 1)                 65        \n",
      "=================================================================\n",
      "Total params: 10,241\n",
      "Trainable params: 10,241\n",
      "Non-trainable params: 0\n",
      "_________________________________________________________________\n"
     ]
    },
    {
     "name": "stderr",
     "output_type": "stream",
     "text": [
      "2022-06-21 14:43:33.136275: I tensorflow/core/profiler/lib/profiler_session.cc:126] Profiler session initializing.\n",
      "2022-06-21 14:43:33.136313: I tensorflow/core/profiler/lib/profiler_session.cc:141] Profiler session started.\n",
      "2022-06-21 14:43:33.136617: E tensorflow/core/profiler/internal/gpu/cupti_tracer.cc:1661] function cupti_interface_->Subscribe( &subscriber_, (CUpti_CallbackFunc)ApiCallback, this)failed with error CUPTI_ERROR_NOT_INITIALIZED\n",
      "2022-06-21 14:43:33.136660: I tensorflow/core/profiler/lib/profiler_session.cc:159] Profiler session tear down.\n"
     ]
    },
    {
     "name": "stdout",
     "output_type": "stream",
     "text": [
      "WARNING:tensorflow:Callback method `on_train_batch_end` is slow compared to the batch time (batch time: 0.0044s vs `on_train_batch_end` time: 0.0132s). Check your callbacks.\n"
     ]
    },
    {
     "name": "stderr",
     "output_type": "stream",
     "text": [
      "2022-06-21 14:43:33.549409: I tensorflow/core/profiler/lib/profiler_session.cc:126] Profiler session initializing.\n",
      "2022-06-21 14:43:33.549438: I tensorflow/core/profiler/lib/profiler_session.cc:141] Profiler session started.\n",
      "2022-06-21 14:43:33.549601: E tensorflow/core/profiler/internal/gpu/cupti_tracer.cc:1661] function cupti_interface_->Subscribe( &subscriber_, (CUpti_CallbackFunc)ApiCallback, this)failed with error CUPTI_ERROR_NOT_INITIALIZED\n",
      "2022-06-21 14:43:33.587553: I tensorflow/core/profiler/lib/profiler_session.cc:66] Profiler session collecting data.\n",
      "2022-06-21 14:43:33.590631: I tensorflow/core/profiler/internal/gpu/cupti_collector.cc:673]  GpuTracer has collected 0 callback api events and 0 activity events. \n",
      "2022-06-21 14:43:33.592118: I tensorflow/core/profiler/lib/profiler_session.cc:159] Profiler session tear down.\n",
      "2022-06-21 14:43:33.602002: I tensorflow/core/profiler/rpc/client/save_profile.cc:137] Creating directory: /tmp/tmp68fgim69/tensorboard_logs/sizes/Medium/train/plugins/profile/2022_06_21_14_43_33\n",
      "2022-06-21 14:43:33.606931: I tensorflow/core/profiler/rpc/client/save_profile.cc:143] Dumped gzipped tool data for trace.json.gz to /tmp/tmp68fgim69/tensorboard_logs/sizes/Medium/train/plugins/profile/2022_06_21_14_43_33/Galileo.trace.json.gz\n",
      "2022-06-21 14:43:33.611855: I tensorflow/core/profiler/rpc/client/save_profile.cc:137] Creating directory: /tmp/tmp68fgim69/tensorboard_logs/sizes/Medium/train/plugins/profile/2022_06_21_14_43_33\n",
      "2022-06-21 14:43:33.612495: I tensorflow/core/profiler/rpc/client/save_profile.cc:143] Dumped gzipped tool data for memory_profile.json.gz to /tmp/tmp68fgim69/tensorboard_logs/sizes/Medium/train/plugins/profile/2022_06_21_14_43_33/Galileo.memory_profile.json.gz\n",
      "2022-06-21 14:43:33.612665: I tensorflow/core/profiler/rpc/client/capture_profile.cc:251] Creating directory: /tmp/tmp68fgim69/tensorboard_logs/sizes/Medium/train/plugins/profile/2022_06_21_14_43_33Dumped tool data for xplane.pb to /tmp/tmp68fgim69/tensorboard_logs/sizes/Medium/train/plugins/profile/2022_06_21_14_43_33/Galileo.xplane.pb\n",
      "Dumped tool data for overview_page.pb to /tmp/tmp68fgim69/tensorboard_logs/sizes/Medium/train/plugins/profile/2022_06_21_14_43_33/Galileo.overview_page.pb\n",
      "Dumped tool data for input_pipeline.pb to /tmp/tmp68fgim69/tensorboard_logs/sizes/Medium/train/plugins/profile/2022_06_21_14_43_33/Galileo.input_pipeline.pb\n",
      "Dumped tool data for tensorflow_stats.pb to /tmp/tmp68fgim69/tensorboard_logs/sizes/Medium/train/plugins/profile/2022_06_21_14_43_33/Galileo.tensorflow_stats.pb\n",
      "Dumped tool data for kernel_stats.pb to /tmp/tmp68fgim69/tensorboard_logs/sizes/Medium/train/plugins/profile/2022_06_21_14_43_33/Galileo.kernel_stats.pb\n",
      "\n"
     ]
    },
    {
     "name": "stdout",
     "output_type": "stream",
     "text": [
      "\n",
      "Epoch: 0, accuracy:0.4687,  binary_crossentropy:0.7208,  loss:0.7208,  val_accuracy:0.4830,  val_binary_crossentropy:0.6910,  val_loss:0.6910,  \n",
      "....................................................................................................\n",
      "Epoch: 100, accuracy:0.7054,  binary_crossentropy:0.5373,  loss:0.5373,  val_accuracy:0.6600,  val_binary_crossentropy:0.6037,  val_loss:0.6037,  \n",
      "....................................................................................................\n",
      "Epoch: 200, accuracy:0.7776,  binary_crossentropy:0.4358,  loss:0.4358,  val_accuracy:0.6690,  val_binary_crossentropy:0.6685,  val_loss:0.6685,  \n",
      "........................................................................"
     ]
    }
   ],
   "source": [
    "size_histories['Medium']  = compile_and_fit(medium_model, \"sizes/Medium\")"
   ]
  },
  {
   "cell_type": "markdown",
   "id": "31c88266",
   "metadata": {},
   "source": [
    "# large model"
   ]
  },
  {
   "cell_type": "code",
   "execution_count": 29,
   "id": "8ae88eda",
   "metadata": {},
   "outputs": [],
   "source": [
    "large_model = tf.keras.Sequential([\n",
    "    layers.Dense(512, activation='elu', input_shape=(FEATURES,)),\n",
    "    layers.Dense(512, activation='elu'),\n",
    "    layers.Dense(512, activation='elu'),\n",
    "    layers.Dense(512, activation='elu'),\n",
    "    layers.Dense(1)\n",
    "])"
   ]
  },
  {
   "cell_type": "code",
   "execution_count": 30,
   "id": "c1642d61",
   "metadata": {},
   "outputs": [
    {
     "name": "stdout",
     "output_type": "stream",
     "text": [
      "Model: \"sequential_3\"\n",
      "_________________________________________________________________\n",
      "Layer (type)                 Output Shape              Param #   \n",
      "=================================================================\n",
      "dense_9 (Dense)              (None, 512)               14848     \n",
      "_________________________________________________________________\n",
      "dense_10 (Dense)             (None, 512)               262656    \n",
      "_________________________________________________________________\n",
      "dense_11 (Dense)             (None, 512)               262656    \n",
      "_________________________________________________________________\n",
      "dense_12 (Dense)             (None, 512)               262656    \n",
      "_________________________________________________________________\n",
      "dense_13 (Dense)             (None, 1)                 513       \n",
      "=================================================================\n",
      "Total params: 803,329\n",
      "Trainable params: 803,329\n",
      "Non-trainable params: 0\n",
      "_________________________________________________________________\n"
     ]
    },
    {
     "name": "stderr",
     "output_type": "stream",
     "text": [
      "2022-06-21 14:51:43.435447: I tensorflow/core/profiler/lib/profiler_session.cc:126] Profiler session initializing.\n",
      "2022-06-21 14:51:43.435485: I tensorflow/core/profiler/lib/profiler_session.cc:141] Profiler session started.\n",
      "2022-06-21 14:51:43.435819: E tensorflow/core/profiler/internal/gpu/cupti_tracer.cc:1661] function cupti_interface_->Subscribe( &subscriber_, (CUpti_CallbackFunc)ApiCallback, this)failed with error CUPTI_ERROR_NOT_INITIALIZED\n",
      "2022-06-21 14:51:43.435856: I tensorflow/core/profiler/lib/profiler_session.cc:159] Profiler session tear down.\n"
     ]
    },
    {
     "name": "stdout",
     "output_type": "stream",
     "text": [
      "WARNING:tensorflow:Callback method `on_train_batch_end` is slow compared to the batch time (batch time: 0.0046s vs `on_train_batch_end` time: 0.0122s). Check your callbacks.\n"
     ]
    },
    {
     "name": "stderr",
     "output_type": "stream",
     "text": [
      "2022-06-21 14:51:43.851095: I tensorflow/core/profiler/lib/profiler_session.cc:126] Profiler session initializing.\n",
      "2022-06-21 14:51:43.851122: I tensorflow/core/profiler/lib/profiler_session.cc:141] Profiler session started.\n",
      "2022-06-21 14:51:43.851281: E tensorflow/core/profiler/internal/gpu/cupti_tracer.cc:1661] function cupti_interface_->Subscribe( &subscriber_, (CUpti_CallbackFunc)ApiCallback, this)failed with error CUPTI_ERROR_NOT_INITIALIZED\n",
      "2022-06-21 14:51:43.891502: I tensorflow/core/profiler/lib/profiler_session.cc:66] Profiler session collecting data.\n",
      "2022-06-21 14:51:43.894490: I tensorflow/core/profiler/internal/gpu/cupti_collector.cc:673]  GpuTracer has collected 0 callback api events and 0 activity events. \n",
      "2022-06-21 14:51:43.895903: I tensorflow/core/profiler/lib/profiler_session.cc:159] Profiler session tear down.\n",
      "2022-06-21 14:51:43.906110: I tensorflow/core/profiler/rpc/client/save_profile.cc:137] Creating directory: /tmp/tmp68fgim69/tensorboard_logs/sizes/large/train/plugins/profile/2022_06_21_14_51_43\n",
      "2022-06-21 14:51:43.911201: I tensorflow/core/profiler/rpc/client/save_profile.cc:143] Dumped gzipped tool data for trace.json.gz to /tmp/tmp68fgim69/tensorboard_logs/sizes/large/train/plugins/profile/2022_06_21_14_51_43/Galileo.trace.json.gz\n",
      "2022-06-21 14:51:43.916537: I tensorflow/core/profiler/rpc/client/save_profile.cc:137] Creating directory: /tmp/tmp68fgim69/tensorboard_logs/sizes/large/train/plugins/profile/2022_06_21_14_51_43\n",
      "2022-06-21 14:51:43.917225: I tensorflow/core/profiler/rpc/client/save_profile.cc:143] Dumped gzipped tool data for memory_profile.json.gz to /tmp/tmp68fgim69/tensorboard_logs/sizes/large/train/plugins/profile/2022_06_21_14_51_43/Galileo.memory_profile.json.gz\n",
      "2022-06-21 14:51:43.917380: I tensorflow/core/profiler/rpc/client/capture_profile.cc:251] Creating directory: /tmp/tmp68fgim69/tensorboard_logs/sizes/large/train/plugins/profile/2022_06_21_14_51_43Dumped tool data for xplane.pb to /tmp/tmp68fgim69/tensorboard_logs/sizes/large/train/plugins/profile/2022_06_21_14_51_43/Galileo.xplane.pb\n",
      "Dumped tool data for overview_page.pb to /tmp/tmp68fgim69/tensorboard_logs/sizes/large/train/plugins/profile/2022_06_21_14_51_43/Galileo.overview_page.pb\n",
      "Dumped tool data for input_pipeline.pb to /tmp/tmp68fgim69/tensorboard_logs/sizes/large/train/plugins/profile/2022_06_21_14_51_43/Galileo.input_pipeline.pb\n",
      "Dumped tool data for tensorflow_stats.pb to /tmp/tmp68fgim69/tensorboard_logs/sizes/large/train/plugins/profile/2022_06_21_14_51_43/Galileo.tensorflow_stats.pb\n",
      "Dumped tool data for kernel_stats.pb to /tmp/tmp68fgim69/tensorboard_logs/sizes/large/train/plugins/profile/2022_06_21_14_51_43/Galileo.kernel_stats.pb\n",
      "\n"
     ]
    },
    {
     "name": "stdout",
     "output_type": "stream",
     "text": [
      "\n",
      "Epoch: 0, accuracy:0.5123,  binary_crossentropy:0.7767,  loss:0.7767,  val_accuracy:0.4690,  val_binary_crossentropy:0.6881,  val_loss:0.6881,  \n",
      "....................................................................................................\n",
      "Epoch: 100, accuracy:1.0000,  binary_crossentropy:0.0023,  loss:0.0023,  val_accuracy:0.6480,  val_binary_crossentropy:1.8428,  val_loss:1.8428,  \n",
      "....................................................................................................\n",
      "Epoch: 200, accuracy:1.0000,  binary_crossentropy:0.0001,  loss:0.0001,  val_accuracy:0.6560,  val_binary_crossentropy:2.5127,  val_loss:2.5127,  \n",
      "........................."
     ]
    }
   ],
   "source": [
    "size_histories['large'] = compile_and_fit(large_model, \"sizes/large\")"
   ]
  },
  {
   "cell_type": "code",
   "execution_count": 31,
   "id": "597d0454",
   "metadata": {},
   "outputs": [
    {
     "data": {
      "text/plain": [
       "Text(0.5, 0, 'Epochs [Log Scale]')"
      ]
     },
     "execution_count": 31,
     "metadata": {},
     "output_type": "execute_result"
    },
    {
     "data": {
      "image/png": "[encoded data removed]",
      "text/plain": [
       "<Figure size 432x288 with 1 Axes>"
      ]
     },
     "metadata": {
      "needs_background": "light"
     },
     "output_type": "display_data"
    }
   ],
   "source": [
    "plotter.plot(size_histories)\n",
    "a = plt.xscale('log')\n",
    "plt.xlim([5, max(plt.xlim())])\n",
    "plt.ylim([0.5, 0.7])\n",
    "plt.xlabel(\"Epochs [Log Scale]\")"
   ]
  },
  {
   "cell_type": "code",
   "execution_count": 32,
   "id": "c41ee7ed",
   "metadata": {},
   "outputs": [
    {
     "data": {
      "text/plain": [
       "Text(0.5, 0, 'Epochs [Log Scale]')"
      ]
     },
     "execution_count": 32,
     "metadata": {},
     "output_type": "execute_result"
    },
    {
     "data": {
      "image/png": "[encoded data removed]",
      "text/plain": [
       "<Figure size 432x288 with 1 Axes>"
      ]
     },
     "metadata": {
      "needs_background": "light"
     },
     "output_type": "display_data"
    }
   ],
   "source": [
    "plotter.plot(size_histories)\n",
    "a = plt.xscale('log')\n",
    "plt.xlim([5, max(plt.xlim())])\n",
    "plt.ylim([0.5, 0.7])\n",
    "plt.xlabel(\"Epochs [Log Scale]\")"
   ]
  },
  {
   "cell_type": "code",
   "execution_count": 33,
   "id": "0823c007",
   "metadata": {},
   "outputs": [
    {
     "data": {
      "text/html": [
       "\n",
       "      <iframe id=\"tensorboard-frame-e53d9dd254564067\" width=\"100%\" height=\"800\" frameborder=\"0\">\n",
       "      </iframe>\n",
       "      <script>\n",
       "        (function() {\n",
       "          const frame = document.getElementById(\"tensorboard-frame-e53d9dd254564067\");\n",
       "          const url = new URL(\"/\", window.location);\n",
       "          const port = 6006;\n",
       "          if (port) {\n",
       "            url.port = port;\n",
       "          }\n",
       "          frame.vocnet = url;\n",
       "        })();\n",
       "      </script>\n",
       "    "
      ],
      "text/plain": [
       "<IPython.core.display.HTML object>"
      ]
     },
     "metadata": {},
     "output_type": "display_data"
    }
   ],
   "source": [
    "#docs_infra: no_execute\n",
    "\n",
    "# Load the TensorBoard notebook extension\n",
    "%load_ext tensorboard\n",
    "\n",
    "# Open an embedded TensorBoard viewer\n",
    "%tensorboard --logdir {logdir}/sizes"
   ]
  },
  {
   "cell_type": "code",
   "execution_count": 34,
   "id": "fd64d18e",
   "metadata": {},
   "outputs": [
    {
     "data": {
      "text/html": [
       "\n",
       "        <iframe\n",
       "            width=\"100%\"\n",
       "            height=\"800px\"\n",
       "            vocnet=\"https://tensorboard.dev/experiment/vW7jmmF9TmKmy3rbheMQpw/#scalars&_smoothingWeight=0.97\"\n",
       "            frameborder=\"0\"\n",
       "            allowfullscreen\n",
       "            \n",
       "        ></iframe>\n",
       "        "
      ],
      "text/plain": [
       "<IPython.lib.display.IFrame at 0x7f90443063a0>"
      ]
     },
     "execution_count": 34,
     "metadata": {},
     "output_type": "execute_result"
    }
   ],
   "source": [
    "display.IFrame(\n",
    "    vocnet=\"https://tensorboard.dev/experiment/vW7jmmF9TmKmy3rbheMQpw/#scalars&_smoothingWeight=0.97\",\n",
    "    width=\"100%\", height=\"800px\")"
   ]
  },
  {
   "cell_type": "code",
   "execution_count": 35,
   "id": "92a26fcd",
   "metadata": {},
   "outputs": [
    {
     "data": {
      "text/plain": [
       "ERROR: Failed to launch TensorBoard (exited with 1).\n",
       "Contents of stderr:\n",
       "2022-06-21 15:02:14.638904: I tensorflow/stream_executor/platform/default/dso_loader.cc:53] Successfully opened dynamic library libcudart.so.11.0\n",
       "\n",
       "***** TensorBoard Uploader *****\n",
       "\n",
       "This will upload your TensorBoard logs to https://tensorboard.dev/ from\n",
       "the following directory:\n",
       "\n",
       "/tmp/tmp68fgim69/tensorboard_logs/sizes\n",
       "\n",
       "This TensorBoard will be visible to everyone. Do not upload sensitive\n",
       "data.\n",
       "\n",
       "Your use of this service is subject to Google's Terms of Service\n",
       "<https://policies.google.com/terms> and Privacy Policy\n",
       "<https://policies.google.com/privacy>, and TensorBoard.dev's Terms of Service\n",
       "<https://tensorboard.dev/policy/terms/>.\n",
       "\n",
       "This notice will not be shown again while you are logged into the uploader.\n",
       "To log out, run `tensorboard dev auth revoke`.\n",
       "\n",
       "Traceback (most recent call last):\n",
       "  File \"/home/reshad812/anaconda3/bin/tensorboard\", line 8, in <module>\n",
       "    sys.exit(run_main())\n",
       "  File \"/home/reshad812/anaconda3/lib/python3.8/site-packages/tensorboard/main.py\", line 46, in run_main\n",
       "    app.run(tensorboard.main, flags_parser=tensorboard.configure)\n",
       "  File \"/home/reshad812/anaconda3/lib/python3.8/site-packages/absl/app.py\", line 312, in run\n",
       "    _run_main(main, args)\n",
       "  File \"/home/reshad812/anaconda3/lib/python3.8/site-packages/absl/app.py\", line 258, in _run_main\n",
       "    sys.exit(main(argv))\n",
       "  File \"/home/reshad812/anaconda3/lib/python3.8/site-packages/tensorboard/program.py\", line 276, in main\n",
       "    return runner(self.flags) or 0\n",
       "  File \"/home/reshad812/anaconda3/lib/python3.8/site-packages/tensorboard/uploader/uploader_subcommand.py\", line 654, in run\n",
       "    return _run(flags, self._experiment_url_callback)\n",
       "  File \"/home/reshad812/anaconda3/lib/python3.8/site-packages/tensorboard/uploader/uploader_subcommand.py\", line 93, in _run\n",
       "    _prompt_for_user_ack(intent)\n",
       "  File \"/home/reshad812/anaconda3/lib/python3.8/site-packages/tensorboard/uploader/uploader_subcommand.py\", line 66, in _prompt_for_user_ack\n",
       "    response = input(\"Continue? (yes/NO) \")\n",
       "EOFError: EOF when reading a line\n",
       "Contents of stdout:\n",
       "Continue? (yes/NO)"
      ]
     },
     "metadata": {},
     "output_type": "display_data"
    }
   ],
   "source": [
    "tensorboard dev upload --logdir  {logdir}/sizes"
   ]
  },
  {
   "cell_type": "code",
   "execution_count": 36,
   "id": "a9c8ca45",
   "metadata": {},
   "outputs": [],
   "source": [
    "# preventing overfitting"
   ]
  },
  {
   "cell_type": "code",
   "execution_count": 37,
   "id": "5503d6bd",
   "metadata": {},
   "outputs": [
    {
     "data": {
      "text/plain": [
       "PosixPath('/tmp/tmp68fgim69/tensorboard_logs/regularizers/Tiny')"
      ]
     },
     "execution_count": 37,
     "metadata": {},
     "output_type": "execute_result"
    }
   ],
   "source": [
    "shutil.rmtree(logdir/'regularizers/Tiny', ignore_errors=True)\n",
    "shutil.copytree(logdir/'sizes/Tiny', logdir/'regularizers/Tiny')"
   ]
  },
  {
   "cell_type": "code",
   "execution_count": 38,
   "id": "15e035e3",
   "metadata": {},
   "outputs": [],
   "source": [
    "regularizer_histories = {}\n",
    "regularizer_histories['Tiny'] = size_histories['Tiny']"
   ]
  },
  {
   "cell_type": "code",
   "execution_count": 39,
   "id": "6ff11b53",
   "metadata": {},
   "outputs": [
    {
     "name": "stdout",
     "output_type": "stream",
     "text": [
      "Model: \"sequential_4\"\n",
      "_________________________________________________________________\n",
      "Layer (type)                 Output Shape              Param #   \n",
      "=================================================================\n",
      "dense_14 (Dense)             (None, 512)               14848     \n",
      "_________________________________________________________________\n",
      "dense_15 (Dense)             (None, 512)               262656    \n",
      "_________________________________________________________________\n",
      "dense_16 (Dense)             (None, 512)               262656    \n",
      "_________________________________________________________________\n",
      "dense_17 (Dense)             (None, 512)               262656    \n",
      "_________________________________________________________________\n",
      "dense_18 (Dense)             (None, 1)                 513       \n",
      "=================================================================\n",
      "Total params: 803,329\n",
      "Trainable params: 803,329\n",
      "Non-trainable params: 0\n",
      "_________________________________________________________________\n"
     ]
    },
    {
     "name": "stderr",
     "output_type": "stream",
     "text": [
      "2022-06-21 15:08:06.686376: I tensorflow/core/profiler/lib/profiler_session.cc:126] Profiler session initializing.\n",
      "2022-06-21 15:08:06.686404: I tensorflow/core/profiler/lib/profiler_session.cc:141] Profiler session started.\n",
      "2022-06-21 15:08:06.686684: E tensorflow/core/profiler/internal/gpu/cupti_tracer.cc:1661] function cupti_interface_->Subscribe( &subscriber_, (CUpti_CallbackFunc)ApiCallback, this)failed with error CUPTI_ERROR_NOT_INITIALIZED\n",
      "2022-06-21 15:08:06.686749: I tensorflow/core/profiler/lib/profiler_session.cc:159] Profiler session tear down.\n"
     ]
    },
    {
     "name": "stdout",
     "output_type": "stream",
     "text": [
      "WARNING:tensorflow:Callback method `on_train_batch_end` is slow compared to the batch time (batch time: 0.0050s vs `on_train_batch_end` time: 0.0133s). Check your callbacks.\n"
     ]
    },
    {
     "name": "stderr",
     "output_type": "stream",
     "text": [
      "2022-06-21 15:08:07.169284: I tensorflow/core/profiler/lib/profiler_session.cc:126] Profiler session initializing.\n",
      "2022-06-21 15:08:07.169309: I tensorflow/core/profiler/lib/profiler_session.cc:141] Profiler session started.\n",
      "2022-06-21 15:08:07.169455: E tensorflow/core/profiler/internal/gpu/cupti_tracer.cc:1661] function cupti_interface_->Subscribe( &subscriber_, (CUpti_CallbackFunc)ApiCallback, this)failed with error CUPTI_ERROR_NOT_INITIALIZED\n",
      "2022-06-21 15:08:07.210045: I tensorflow/core/profiler/lib/profiler_session.cc:66] Profiler session collecting data.\n",
      "2022-06-21 15:08:07.214162: I tensorflow/core/profiler/internal/gpu/cupti_collector.cc:673]  GpuTracer has collected 0 callback api events and 0 activity events. \n",
      "2022-06-21 15:08:07.216024: I tensorflow/core/profiler/lib/profiler_session.cc:159] Profiler session tear down.\n",
      "2022-06-21 15:08:07.226434: I tensorflow/core/profiler/rpc/client/save_profile.cc:137] Creating directory: /tmp/tmp68fgim69/tensorboard_logs/regularizers/l2/train/plugins/profile/2022_06_21_15_08_07\n",
      "2022-06-21 15:08:07.231520: I tensorflow/core/profiler/rpc/client/save_profile.cc:143] Dumped gzipped tool data for trace.json.gz to /tmp/tmp68fgim69/tensorboard_logs/regularizers/l2/train/plugins/profile/2022_06_21_15_08_07/Galileo.trace.json.gz\n",
      "2022-06-21 15:08:07.237541: I tensorflow/core/profiler/rpc/client/save_profile.cc:137] Creating directory: /tmp/tmp68fgim69/tensorboard_logs/regularizers/l2/train/plugins/profile/2022_06_21_15_08_07\n",
      "2022-06-21 15:08:07.238461: I tensorflow/core/profiler/rpc/client/save_profile.cc:143] Dumped gzipped tool data for memory_profile.json.gz to /tmp/tmp68fgim69/tensorboard_logs/regularizers/l2/train/plugins/profile/2022_06_21_15_08_07/Galileo.memory_profile.json.gz\n",
      "2022-06-21 15:08:07.238630: I tensorflow/core/profiler/rpc/client/capture_profile.cc:251] Creating directory: /tmp/tmp68fgim69/tensorboard_logs/regularizers/l2/train/plugins/profile/2022_06_21_15_08_07Dumped tool data for xplane.pb to /tmp/tmp68fgim69/tensorboard_logs/regularizers/l2/train/plugins/profile/2022_06_21_15_08_07/Galileo.xplane.pb\n",
      "Dumped tool data for overview_page.pb to /tmp/tmp68fgim69/tensorboard_logs/regularizers/l2/train/plugins/profile/2022_06_21_15_08_07/Galileo.overview_page.pb\n",
      "Dumped tool data for input_pipeline.pb to /tmp/tmp68fgim69/tensorboard_logs/regularizers/l2/train/plugins/profile/2022_06_21_15_08_07/Galileo.input_pipeline.pb\n",
      "Dumped tool data for tensorflow_stats.pb to /tmp/tmp68fgim69/tensorboard_logs/regularizers/l2/train/plugins/profile/2022_06_21_15_08_07/Galileo.tensorflow_stats.pb\n",
      "Dumped tool data for kernel_stats.pb to /tmp/tmp68fgim69/tensorboard_logs/regularizers/l2/train/plugins/profile/2022_06_21_15_08_07/Galileo.kernel_stats.pb\n",
      "\n"
     ]
    },
    {
     "name": "stdout",
     "output_type": "stream",
     "text": [
      "\n",
      "Epoch: 0, accuracy:0.4976,  binary_crossentropy:0.8092,  loss:2.3299,  val_accuracy:0.5770,  val_binary_crossentropy:0.6803,  val_loss:2.1257,  \n",
      "....................................................................................................\n",
      "Epoch: 100, accuracy:0.6535,  binary_crossentropy:0.5991,  loss:0.6208,  val_accuracy:0.6730,  val_binary_crossentropy:0.5889,  val_loss:0.6107,  \n",
      "....................................................................................................\n",
      "Epoch: 200, accuracy:0.6654,  binary_crossentropy:0.5857,  loss:0.6067,  val_accuracy:0.6590,  val_binary_crossentropy:0.5809,  val_loss:0.6020,  \n",
      "....................................................................................................\n",
      "Epoch: 300, accuracy:0.6733,  binary_crossentropy:0.5808,  loss:0.6051,  val_accuracy:0.6760,  val_binary_crossentropy:0.5767,  val_loss:0.6003,  \n",
      "....................................................................................................\n",
      "Epoch: 400, accuracy:0.6818,  binary_crossentropy:0.5701,  loss:0.5946,  val_accuracy:0.7040,  val_binary_crossentropy:0.5704,  val_loss:0.5948,  \n",
      "....................................................................................................\n",
      "Epoch: 500, accuracy:0.6945,  binary_crossentropy:0.5616,  loss:0.5891,  val_accuracy:0.6800,  val_binary_crossentropy:0.5727,  val_loss:0.5998,  \n",
      "....................................................................................................\n",
      "Epoch: 600, accuracy:0.7067,  binary_crossentropy:0.5498,  loss:0.5769,  val_accuracy:0.6700,  val_binary_crossentropy:0.5756,  val_loss:0.6027,  \n",
      "............................................................................................"
     ]
    }
   ],
   "source": [
    "l2_model = tf.keras.Sequential([\n",
    "    layers.Dense(512, activation='elu',\n",
    "                 kernel_regularizer=regularizers.l2(0.001),\n",
    "                 input_shape=(FEATURES,)),\n",
    "    layers.Dense(512, activation='elu',\n",
    "                 kernel_regularizer=regularizers.l2(0.001)),\n",
    "    layers.Dense(512, activation='elu',\n",
    "                 kernel_regularizer=regularizers.l2(0.001)),\n",
    "    layers.Dense(512, activation='elu',\n",
    "                 kernel_regularizer=regularizers.l2(0.001)),\n",
    "    layers.Dense(1)\n",
    "])\n",
    "\n",
    "regularizer_histories['l2'] = compile_and_fit(l2_model, \"regularizers/l2\")"
   ]
  },
  {
   "cell_type": "code",
   "execution_count": 40,
   "id": "1cf70e2c",
   "metadata": {},
   "outputs": [
    {
     "data": {
      "text/plain": [
       "(0.5, 0.7)"
      ]
     },
     "execution_count": 40,
     "metadata": {},
     "output_type": "execute_result"
    },
    {
     "data": {
      "image/png": "[encoded data removed]",
      "text/plain": [
       "<Figure size 432x288 with 1 Axes>"
      ]
     },
     "metadata": {
      "needs_background": "light"
     },
     "output_type": "display_data"
    }
   ],
   "source": [
    "plotter.plot(regularizer_histories)\n",
    "plt.ylim([0.5, 0.7])"
   ]
  },
  {
   "cell_type": "code",
   "execution_count": 41,
   "id": "b03c3eb4",
   "metadata": {},
   "outputs": [],
   "source": [
    "result = l2_model(features)\n",
    "regularization_loss=tf.add_n(l2_model.losses)"
   ]
  },
  {
   "cell_type": "code",
   "execution_count": 42,
   "id": "7436359e",
   "metadata": {},
   "outputs": [
    {
     "name": "stdout",
     "output_type": "stream",
     "text": [
      "Model: \"sequential_5\"\n",
      "_________________________________________________________________\n",
      "Layer (type)                 Output Shape              Param #   \n",
      "=================================================================\n",
      "dense_19 (Dense)             (None, 512)               14848     \n",
      "_________________________________________________________________\n",
      "dropout (Dropout)            (None, 512)               0         \n",
      "_________________________________________________________________\n",
      "dense_20 (Dense)             (None, 512)               262656    \n",
      "_________________________________________________________________\n",
      "dropout_1 (Dropout)          (None, 512)               0         \n",
      "_________________________________________________________________\n",
      "dense_21 (Dense)             (None, 512)               262656    \n",
      "_________________________________________________________________\n",
      "dropout_2 (Dropout)          (None, 512)               0         \n",
      "_________________________________________________________________\n",
      "dense_22 (Dense)             (None, 512)               262656    \n",
      "_________________________________________________________________\n",
      "dropout_3 (Dropout)          (None, 512)               0         \n",
      "_________________________________________________________________\n",
      "dense_23 (Dense)             (None, 1)                 513       \n",
      "=================================================================\n",
      "Total params: 803,329\n",
      "Trainable params: 803,329\n",
      "Non-trainable params: 0\n",
      "_________________________________________________________________\n"
     ]
    },
    {
     "name": "stderr",
     "output_type": "stream",
     "text": [
      "2022-06-21 15:09:44.007107: I tensorflow/core/profiler/lib/profiler_session.cc:126] Profiler session initializing.\n",
      "2022-06-21 15:09:44.007140: I tensorflow/core/profiler/lib/profiler_session.cc:141] Profiler session started.\n",
      "2022-06-21 15:09:44.007297: E tensorflow/core/profiler/internal/gpu/cupti_tracer.cc:1661] function cupti_interface_->Subscribe( &subscriber_, (CUpti_CallbackFunc)ApiCallback, this)failed with error CUPTI_ERROR_NOT_INITIALIZED\n",
      "2022-06-21 15:09:44.007360: I tensorflow/core/profiler/lib/profiler_session.cc:159] Profiler session tear down.\n"
     ]
    },
    {
     "name": "stdout",
     "output_type": "stream",
     "text": [
      "WARNING:tensorflow:Callback method `on_train_batch_end` is slow compared to the batch time (batch time: 0.0047s vs `on_train_batch_end` time: 0.0158s). Check your callbacks.\n"
     ]
    },
    {
     "name": "stderr",
     "output_type": "stream",
     "text": [
      "2022-06-21 15:09:44.470930: I tensorflow/core/profiler/lib/profiler_session.cc:126] Profiler session initializing.\n",
      "2022-06-21 15:09:44.470954: I tensorflow/core/profiler/lib/profiler_session.cc:141] Profiler session started.\n",
      "2022-06-21 15:09:44.471088: E tensorflow/core/profiler/internal/gpu/cupti_tracer.cc:1661] function cupti_interface_->Subscribe( &subscriber_, (CUpti_CallbackFunc)ApiCallback, this)failed with error CUPTI_ERROR_NOT_INITIALIZED\n",
      "2022-06-21 15:09:44.530604: I tensorflow/core/profiler/lib/profiler_session.cc:66] Profiler session collecting data.\n",
      "2022-06-21 15:09:44.533844: I tensorflow/core/profiler/internal/gpu/cupti_collector.cc:673]  GpuTracer has collected 0 callback api events and 0 activity events. \n",
      "2022-06-21 15:09:44.535471: I tensorflow/core/profiler/lib/profiler_session.cc:159] Profiler session tear down.\n",
      "2022-06-21 15:09:44.545584: I tensorflow/core/profiler/rpc/client/save_profile.cc:137] Creating directory: /tmp/tmp68fgim69/tensorboard_logs/regularizers/dropout/train/plugins/profile/2022_06_21_15_09_44\n",
      "2022-06-21 15:09:44.550631: I tensorflow/core/profiler/rpc/client/save_profile.cc:143] Dumped gzipped tool data for trace.json.gz to /tmp/tmp68fgim69/tensorboard_logs/regularizers/dropout/train/plugins/profile/2022_06_21_15_09_44/Galileo.trace.json.gz\n",
      "2022-06-21 15:09:44.556625: I tensorflow/core/profiler/rpc/client/save_profile.cc:137] Creating directory: /tmp/tmp68fgim69/tensorboard_logs/regularizers/dropout/train/plugins/profile/2022_06_21_15_09_44\n",
      "2022-06-21 15:09:44.557517: I tensorflow/core/profiler/rpc/client/save_profile.cc:143] Dumped gzipped tool data for memory_profile.json.gz to /tmp/tmp68fgim69/tensorboard_logs/regularizers/dropout/train/plugins/profile/2022_06_21_15_09_44/Galileo.memory_profile.json.gz\n",
      "2022-06-21 15:09:44.557681: I tensorflow/core/profiler/rpc/client/capture_profile.cc:251] Creating directory: /tmp/tmp68fgim69/tensorboard_logs/regularizers/dropout/train/plugins/profile/2022_06_21_15_09_44Dumped tool data for xplane.pb to /tmp/tmp68fgim69/tensorboard_logs/regularizers/dropout/train/plugins/profile/2022_06_21_15_09_44/Galileo.xplane.pb\n",
      "Dumped tool data for overview_page.pb to /tmp/tmp68fgim69/tensorboard_logs/regularizers/dropout/train/plugins/profile/2022_06_21_15_09_44/Galileo.overview_page.pb\n",
      "Dumped tool data for input_pipeline.pb to /tmp/tmp68fgim69/tensorboard_logs/regularizers/dropout/train/plugins/profile/2022_06_21_15_09_44/Galileo.input_pipeline.pb\n",
      "Dumped tool data for tensorflow_stats.pb to /tmp/tmp68fgim69/tensorboard_logs/regularizers/dropout/train/plugins/profile/2022_06_21_15_09_44/Galileo.tensorflow_stats.pb\n",
      "Dumped tool data for kernel_stats.pb to /tmp/tmp68fgim69/tensorboard_logs/regularizers/dropout/train/plugins/profile/2022_06_21_15_09_44/Galileo.kernel_stats.pb\n",
      "\n"
     ]
    },
    {
     "name": "stdout",
     "output_type": "stream",
     "text": [
      "\n",
      "Epoch: 0, accuracy:0.5118,  binary_crossentropy:0.7843,  loss:0.7843,  val_accuracy:0.5560,  val_binary_crossentropy:0.6731,  val_loss:0.6731,  \n",
      "....................................................................................................\n",
      "Epoch: 100, accuracy:0.6538,  binary_crossentropy:0.5989,  loss:0.5989,  val_accuracy:0.6960,  val_binary_crossentropy:0.5909,  val_loss:0.5909,  \n",
      "....................................................................................................\n",
      "Epoch: 200, accuracy:0.6930,  binary_crossentropy:0.5547,  loss:0.5547,  val_accuracy:0.7000,  val_binary_crossentropy:0.5842,  val_loss:0.5842,  \n",
      "....................................................................................................\n",
      "Epoch: 300, accuracy:0.7232,  binary_crossentropy:0.5076,  loss:0.5076,  val_accuracy:0.6850,  val_binary_crossentropy:0.6094,  val_loss:0.6094,  \n",
      "........................."
     ]
    }
   ],
   "source": [
    "dropout_model = tf.keras.Sequential([\n",
    "    layers.Dense(512, activation='elu', input_shape=(FEATURES,)),\n",
    "    layers.Dropout(0.5),\n",
    "    layers.Dense(512, activation='elu'),\n",
    "    layers.Dropout(0.5),\n",
    "    layers.Dense(512, activation='elu'),\n",
    "    layers.Dropout(0.5),\n",
    "    layers.Dense(512, activation='elu'),\n",
    "    layers.Dropout(0.5),\n",
    "    layers.Dense(1)\n",
    "])\n",
    "\n",
    "regularizer_histories['dropout'] = compile_and_fit(dropout_model, \"regularizers/dropout\")"
   ]
  },
  {
   "cell_type": "code",
   "execution_count": 43,
   "id": "f53a8f0c",
   "metadata": {},
   "outputs": [
    {
     "data": {
      "text/plain": [
       "(0.5, 0.7)"
      ]
     },
     "execution_count": 43,
     "metadata": {},
     "output_type": "execute_result"
    },
    {
     "data": {
      "image/png": "[encoded data removed]",
      "text/plain": [
       "<Figure size 432x288 with 1 Axes>"
      ]
     },
     "metadata": {
      "needs_background": "light"
     },
     "output_type": "display_data"
    }
   ],
   "source": [
    "plotter.plot(regularizer_histories)\n",
    "plt.ylim([0.5, 0.7])"
   ]
  },
  {
   "cell_type": "code",
   "execution_count": 44,
   "id": "31305872",
   "metadata": {},
   "outputs": [
    {
     "name": "stdout",
     "output_type": "stream",
     "text": [
      "Model: \"sequential_6\"\n",
      "_________________________________________________________________\n",
      "Layer (type)                 Output Shape              Param #   \n",
      "=================================================================\n",
      "dense_24 (Dense)             (None, 512)               14848     \n",
      "_________________________________________________________________\n",
      "dropout_4 (Dropout)          (None, 512)               0         \n",
      "_________________________________________________________________\n",
      "dense_25 (Dense)             (None, 512)               262656    \n",
      "_________________________________________________________________\n",
      "dropout_5 (Dropout)          (None, 512)               0         \n",
      "_________________________________________________________________\n",
      "dense_26 (Dense)             (None, 512)               262656    \n",
      "_________________________________________________________________\n",
      "dropout_6 (Dropout)          (None, 512)               0         \n",
      "_________________________________________________________________\n",
      "dense_27 (Dense)             (None, 512)               262656    \n",
      "_________________________________________________________________\n",
      "dropout_7 (Dropout)          (None, 512)               0         \n",
      "_________________________________________________________________\n",
      "dense_28 (Dense)             (None, 1)                 513       \n",
      "=================================================================\n",
      "Total params: 803,329\n",
      "Trainable params: 803,329\n",
      "Non-trainable params: 0\n",
      "_________________________________________________________________\n"
     ]
    },
    {
     "name": "stderr",
     "output_type": "stream",
     "text": [
      "2022-06-21 15:10:31.686036: I tensorflow/core/profiler/lib/profiler_session.cc:126] Profiler session initializing.\n",
      "2022-06-21 15:10:31.686060: I tensorflow/core/profiler/lib/profiler_session.cc:141] Profiler session started.\n",
      "2022-06-21 15:10:31.686347: E tensorflow/core/profiler/internal/gpu/cupti_tracer.cc:1661] function cupti_interface_->Subscribe( &subscriber_, (CUpti_CallbackFunc)ApiCallback, this)failed with error CUPTI_ERROR_NOT_INITIALIZED\n",
      "2022-06-21 15:10:31.686520: I tensorflow/core/profiler/lib/profiler_session.cc:159] Profiler session tear down.\n"
     ]
    },
    {
     "name": "stdout",
     "output_type": "stream",
     "text": [
      "WARNING:tensorflow:Callback method `on_train_batch_end` is slow compared to the batch time (batch time: 0.0040s vs `on_train_batch_end` time: 0.0128s). Check your callbacks.\n"
     ]
    },
    {
     "name": "stderr",
     "output_type": "stream",
     "text": [
      "2022-06-21 15:10:32.199495: I tensorflow/core/profiler/lib/profiler_session.cc:126] Profiler session initializing.\n",
      "2022-06-21 15:10:32.199519: I tensorflow/core/profiler/lib/profiler_session.cc:141] Profiler session started.\n",
      "2022-06-21 15:10:32.199615: E tensorflow/core/profiler/internal/gpu/cupti_tracer.cc:1661] function cupti_interface_->Subscribe( &subscriber_, (CUpti_CallbackFunc)ApiCallback, this)failed with error CUPTI_ERROR_NOT_INITIALIZED\n",
      "2022-06-21 15:10:32.238012: I tensorflow/core/profiler/lib/profiler_session.cc:66] Profiler session collecting data.\n",
      "2022-06-21 15:10:32.241314: I tensorflow/core/profiler/internal/gpu/cupti_collector.cc:673]  GpuTracer has collected 0 callback api events and 0 activity events. \n",
      "2022-06-21 15:10:32.242844: I tensorflow/core/profiler/lib/profiler_session.cc:159] Profiler session tear down.\n",
      "2022-06-21 15:10:32.253334: I tensorflow/core/profiler/rpc/client/save_profile.cc:137] Creating directory: /tmp/tmp68fgim69/tensorboard_logs/regularizers/combined/train/plugins/profile/2022_06_21_15_10_32\n",
      "2022-06-21 15:10:32.258603: I tensorflow/core/profiler/rpc/client/save_profile.cc:143] Dumped gzipped tool data for trace.json.gz to /tmp/tmp68fgim69/tensorboard_logs/regularizers/combined/train/plugins/profile/2022_06_21_15_10_32/Galileo.trace.json.gz\n",
      "2022-06-21 15:10:32.265317: I tensorflow/core/profiler/rpc/client/save_profile.cc:137] Creating directory: /tmp/tmp68fgim69/tensorboard_logs/regularizers/combined/train/plugins/profile/2022_06_21_15_10_32\n",
      "2022-06-21 15:10:32.266369: I tensorflow/core/profiler/rpc/client/save_profile.cc:143] Dumped gzipped tool data for memory_profile.json.gz to /tmp/tmp68fgim69/tensorboard_logs/regularizers/combined/train/plugins/profile/2022_06_21_15_10_32/Galileo.memory_profile.json.gz\n",
      "2022-06-21 15:10:32.266564: I tensorflow/core/profiler/rpc/client/capture_profile.cc:251] Creating directory: /tmp/tmp68fgim69/tensorboard_logs/regularizers/combined/train/plugins/profile/2022_06_21_15_10_32Dumped tool data for xplane.pb to /tmp/tmp68fgim69/tensorboard_logs/regularizers/combined/train/plugins/profile/2022_06_21_15_10_32/Galileo.xplane.pb\n",
      "Dumped tool data for overview_page.pb to /tmp/tmp68fgim69/tensorboard_logs/regularizers/combined/train/plugins/profile/2022_06_21_15_10_32/Galileo.overview_page.pb\n",
      "Dumped tool data for input_pipeline.pb to /tmp/tmp68fgim69/tensorboard_logs/regularizers/combined/train/plugins/profile/2022_06_21_15_10_32/Galileo.input_pipeline.pb\n",
      "Dumped tool data for tensorflow_stats.pb to /tmp/tmp68fgim69/tensorboard_logs/regularizers/combined/train/plugins/profile/2022_06_21_15_10_32/Galileo.tensorflow_stats.pb\n",
      "Dumped tool data for kernel_stats.pb to /tmp/tmp68fgim69/tensorboard_logs/regularizers/combined/train/plugins/profile/2022_06_21_15_10_32/Galileo.kernel_stats.pb\n",
      "\n"
     ]
    },
    {
     "name": "stdout",
     "output_type": "stream",
     "text": [
      "\n",
      "Epoch: 0, accuracy:0.5050,  binary_crossentropy:0.8107,  loss:0.9692,  val_accuracy:0.4600,  val_binary_crossentropy:0.7283,  val_loss:0.8860,  \n",
      "....................................................................................................\n",
      "Epoch: 100, accuracy:0.6434,  binary_crossentropy:0.6040,  loss:0.6336,  val_accuracy:0.6810,  val_binary_crossentropy:0.5842,  val_loss:0.6136,  \n",
      "....................................................................................................\n",
      "Epoch: 200, accuracy:0.6622,  binary_crossentropy:0.5898,  loss:0.6150,  val_accuracy:0.6850,  val_binary_crossentropy:0.5701,  val_loss:0.5953,  \n",
      "....................................................................................................\n",
      "Epoch: 300, accuracy:0.6697,  binary_crossentropy:0.5848,  loss:0.6130,  val_accuracy:0.6870,  val_binary_crossentropy:0.5618,  val_loss:0.5900,  \n",
      "....................................................................................................\n",
      "Epoch: 400, accuracy:0.6775,  binary_crossentropy:0.5761,  loss:0.6063,  val_accuracy:0.6840,  val_binary_crossentropy:0.5580,  val_loss:0.5882,  \n",
      "....................................................................................................\n",
      "Epoch: 500, accuracy:0.6794,  binary_crossentropy:0.5716,  loss:0.6039,  val_accuracy:0.6790,  val_binary_crossentropy:0.5553,  val_loss:0.5876,  \n",
      "....................................................................................................\n",
      "Epoch: 600, accuracy:0.6868,  binary_crossentropy:0.5659,  loss:0.5999,  val_accuracy:0.6860,  val_binary_crossentropy:0.5490,  val_loss:0.5831,  \n",
      "....................................................................................................\n",
      "Epoch: 700, accuracy:0.6849,  binary_crossentropy:0.5626,  loss:0.5988,  val_accuracy:0.6900,  val_binary_crossentropy:0.5510,  val_loss:0.5872,  \n",
      "....................................................................................................\n",
      "Epoch: 800, accuracy:0.6940,  binary_crossentropy:0.5582,  loss:0.5963,  val_accuracy:0.6940,  val_binary_crossentropy:0.5437,  val_loss:0.5818,  \n",
      "....................................................................................................\n",
      "Epoch: 900, accuracy:0.6982,  binary_crossentropy:0.5545,  loss:0.5939,  val_accuracy:0.6990,  val_binary_crossentropy:0.5472,  val_loss:0.5865,  \n",
      "....................................................................................................\n",
      "Epoch: 1000, accuracy:0.7040,  binary_crossentropy:0.5487,  loss:0.5893,  val_accuracy:0.6920,  val_binary_crossentropy:0.5458,  val_loss:0.5864,  \n",
      "....................................................................................................\n",
      "Epoch: 1100, accuracy:0.7004,  binary_crossentropy:0.5428,  loss:0.5846,  val_accuracy:0.7000,  val_binary_crossentropy:0.5448,  val_loss:0.5868,  \n",
      ".................................................................."
     ]
    }
   ],
   "source": [
    "combined_model = tf.keras.Sequential([\n",
    "    layers.Dense(512, kernel_regularizer=regularizers.l2(0.0001),\n",
    "                 activation='elu', input_shape=(FEATURES,)),\n",
    "    layers.Dropout(0.5),\n",
    "    layers.Dense(512, kernel_regularizer=regularizers.l2(0.0001),\n",
    "                 activation='elu'),\n",
    "    layers.Dropout(0.5),\n",
    "    layers.Dense(512, kernel_regularizer=regularizers.l2(0.0001),\n",
    "                 activation='elu'),\n",
    "    layers.Dropout(0.5),\n",
    "    layers.Dense(512, kernel_regularizer=regularizers.l2(0.0001),\n",
    "                 activation='elu'),\n",
    "    layers.Dropout(0.5),\n",
    "    layers.Dense(1)\n",
    "])\n",
    "\n",
    "regularizer_histories['combined'] = compile_and_fit(combined_model, \"regularizers/combined\")"
   ]
  },
  {
   "cell_type": "code",
   "execution_count": 45,
   "id": "91bd4ac1",
   "metadata": {},
   "outputs": [
    {
     "data": {
      "text/plain": [
       "(0.5, 0.7)"
      ]
     },
     "execution_count": 45,
     "metadata": {},
     "output_type": "execute_result"
    },
    {
     "data": {
      "image/png": "[encoded data removed]",
      "text/plain": [
       "<Figure size 432x288 with 1 Axes>"
      ]
     },
     "metadata": {
      "needs_background": "light"
     },
     "output_type": "display_data"
    }
   ],
   "source": [
    "plotter.plot(regularizer_histories)\n",
    "plt.ylim([0.5, 0.7])"
   ]
  },
  {
   "cell_type": "code",
   "execution_count": 46,
   "id": "3f063932",
   "metadata": {},
   "outputs": [
    {
     "data": {
      "text/html": [
       "\n",
       "      <iframe id=\"tensorboard-frame-5f6d9da034ca9d1e\" width=\"100%\" height=\"800\" frameborder=\"0\">\n",
       "      </iframe>\n",
       "      <script>\n",
       "        (function() {\n",
       "          const frame = document.getElementById(\"tensorboard-frame-5f6d9da034ca9d1e\");\n",
       "          const url = new URL(\"/\", window.location);\n",
       "          const port = 6007;\n",
       "          if (port) {\n",
       "            url.port = port;\n",
       "          }\n",
       "          frame.vocnet = url;\n",
       "        })();\n",
       "      </script>\n",
       "    "
      ],
      "text/plain": [
       "<IPython.core.display.HTML object>"
      ]
     },
     "metadata": {},
     "output_type": "display_data"
    }
   ],
   "source": [
    "%tensorboard --logdir {logdir}/regularizers"
   ]
  },
  {
   "cell_type": "code",
   "execution_count": 47,
   "id": "3a5b9819",
   "metadata": {},
   "outputs": [
    {
     "data": {
      "text/html": [
       "\n",
       "        <iframe\n",
       "            width=\"100%\"\n",
       "            height=\"800px\"\n",
       "            vocnet=\"https://tensorboard.dev/experiment/fGInKDo8TXes1z7HQku9mw/#scalars&_smoothingWeight=0.97\"\n",
       "            frameborder=\"0\"\n",
       "            allowfullscreen\n",
       "            \n",
       "        ></iframe>\n",
       "        "
      ],
      "text/plain": [
       "<IPython.lib.display.IFrame at 0x7f922873c0d0>"
      ]
     },
     "execution_count": 47,
     "metadata": {},
     "output_type": "execute_result"
    }
   ],
   "source": [
    "display.IFrame(\n",
    "    vocnet=\"https://tensorboard.dev/experiment/fGInKDo8TXes1z7HQku9mw/#scalars&_smoothingWeight=0.97\",\n",
    "    width = \"100%\",\n",
    "    height=\"800px\")"
   ]
  },
  {
   "cell_type": "code",
   "execution_count": 48,
   "id": "511486f8",
   "metadata": {},
   "outputs": [
    {
     "data": {
      "text/plain": [
       "ERROR: Failed to launch TensorBoard (exited with 1).\n",
       "Contents of stderr:\n",
       "2022-06-21 15:13:25.074664: I tensorflow/stream_executor/platform/default/dso_loader.cc:53] Successfully opened dynamic library libcudart.so.11.0\n",
       "\n",
       "***** TensorBoard Uploader *****\n",
       "\n",
       "This will upload your TensorBoard logs to https://tensorboard.dev/ from\n",
       "the following directory:\n",
       "\n",
       "/tmp/tmp68fgim69/tensorboard_logs/regularizers\n",
       "\n",
       "This TensorBoard will be visible to everyone. Do not upload sensitive\n",
       "data.\n",
       "\n",
       "Your use of this service is subject to Google's Terms of Service\n",
       "<https://policies.google.com/terms> and Privacy Policy\n",
       "<https://policies.google.com/privacy>, and TensorBoard.dev's Terms of Service\n",
       "<https://tensorboard.dev/policy/terms/>.\n",
       "\n",
       "This notice will not be shown again while you are logged into the uploader.\n",
       "To log out, run `tensorboard dev auth revoke`.\n",
       "\n",
       "Traceback (most recent call last):\n",
       "  File \"/home/reshad812/anaconda3/bin/tensorboard\", line 8, in <module>\n",
       "    sys.exit(run_main())\n",
       "  File \"/home/reshad812/anaconda3/lib/python3.8/site-packages/tensorboard/main.py\", line 46, in run_main\n",
       "    app.run(tensorboard.main, flags_parser=tensorboard.configure)\n",
       "  File \"/home/reshad812/anaconda3/lib/python3.8/site-packages/absl/app.py\", line 312, in run\n",
       "    _run_main(main, args)\n",
       "  File \"/home/reshad812/anaconda3/lib/python3.8/site-packages/absl/app.py\", line 258, in _run_main\n",
       "    sys.exit(main(argv))\n",
       "  File \"/home/reshad812/anaconda3/lib/python3.8/site-packages/tensorboard/program.py\", line 276, in main\n",
       "    return runner(self.flags) or 0\n",
       "  File \"/home/reshad812/anaconda3/lib/python3.8/site-packages/tensorboard/uploader/uploader_subcommand.py\", line 654, in run\n",
       "    return _run(flags, self._experiment_url_callback)\n",
       "  File \"/home/reshad812/anaconda3/lib/python3.8/site-packages/tensorboard/uploader/uploader_subcommand.py\", line 93, in _run\n",
       "    _prompt_for_user_ack(intent)\n",
       "  File \"/home/reshad812/anaconda3/lib/python3.8/site-packages/tensorboard/uploader/uploader_subcommand.py\", line 66, in _prompt_for_user_ack\n",
       "    response = input(\"Continue? (yes/NO) \")\n",
       "EOFError: EOF when reading a line\n",
       "Contents of stdout:\n",
       "Continue? (yes/NO)"
      ]
     },
     "metadata": {},
     "output_type": "display_data"
    }
   ],
   "source": [
    "tensorboard dev upload --logdir  {logdir}/regularizers"
   ]
  },
  {
   "cell_type": "code",
   "execution_count": 49,
   "id": "5a22b75b",
   "metadata": {},
   "outputs": [],
   "source": [
    "# MIT License\n",
    "#\n",
    "# Copyright (c) 2017 François Chollet\n",
    "#\n",
    "# Permission is hereby granted, free of charge, to any person obtaining a\n",
    "# copy of this software and associated documentation files (the \"Software\"),\n",
    "# to deal in the Software without restriction, including without limitation\n",
    "# the rights to use, copy, modify, merge, publish, distribute, sublicense,\n",
    "# and/or sell copies of the Software, and to permit persons to whom the\n",
    "# Software is furnished to do so, subject to the following conditions:\n",
    "#\n",
    "# The above copyright notice and this permission notice shall be included in\n",
    "# all copies or substantial portions of the Software.\n",
    "#\n",
    "# THE SOFTWARE IS PROVIDED \"AS IS\", WITHOUT WARRANTY OF ANY KIND, EXPRESS OR\n",
    "# IMPLIED, INCLUDING BUT NOT LIMITED TO THE WARRANTIES OF MERCHANTABILITY,\n",
    "# FITNESS FOR A PARTICULAR PURPOSE AND NONINFRINGEMENT. IN NO EVENT SHALL\n",
    "# THE AUTHORS OR COPYRIGHT HOLDERS BE LIABLE FOR ANY CLAIM, DAMAGES OR OTHER\n",
    "# LIABILITY, WHETHER IN AN ACTION OF CONTRACT, TORT OR OTHERWISE, ARISING\n",
    "# FROM, OUT OF OR IN CONNECTION WITH THE SOFTWARE OR THE USE OR OTHER\n",
    "# DEALINGS IN THE SOFTWARE.//"
   ]
  },
  {
   "cell_type": "code",
   "execution_count": null,
   "id": "1e49a06e",
   "metadata": {},
   "outputs": [],
   "source": []
  }
 ],
 "metadata": {
  "kernelspec": {
   "display_name": "Python 3 (ipykernel)",
   "language": "python",
   "name": "python3"
  },
  "language_info": {
   "codemirror_mode": {
    "name": "ipython",
    "version": 3
   },
   "file_extension": ".py",
   "mimetype": "text/x-python",
   "name": "python",
   "nbconvert_exporter": "python",
   "pygments_lexer": "ipython3",
   "version": "3.8.8"
  }
 },
 "nbformat": 4,
 "nbformat_minor": 5
}
